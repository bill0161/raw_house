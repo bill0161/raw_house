{
  "nbformat": 4,
  "nbformat_minor": 0,
  "metadata": {
    "colab": {
      "provenance": [],
      "collapsed_sections": [
        "Lw5TZ5EtX_jh",
        "I13Cy_yrowZW",
        "oGITkPyKzoki"
      ]
    },
    "kernelspec": {
      "name": "python3",
      "display_name": "Python 3"
    },
    "language_info": {
      "name": "python"
    }
  },
  "cells": [
    {
      "cell_type": "code",
      "source": [
        "import pandas as pd\n",
        "import numpy as np\n",
        "import seaborn as sns\n",
        "import matplotlib.pyplot as plt"
      ],
      "metadata": {
        "id": "pAVt_Kd4CZf6"
      },
      "execution_count": 101,
      "outputs": []
    },
    {
      "cell_type": "markdown",
      "source": [
        "# Data Cleaning"
      ],
      "metadata": {
        "id": "C1Y70xrEmPKs"
      }
    },
    {
      "cell_type": "code",
      "execution_count": 102,
      "metadata": {
        "id": "pktYDDOqtDe4"
      },
      "outputs": [],
      "source": [
        "house = pd.read_csv(\"/content/raw_house_data - raw_house_data.csv\")  "
      ]
    },
    {
      "cell_type": "code",
      "source": [
        "house.head(5)"
      ],
      "metadata": {
        "colab": {
          "base_uri": "https://localhost:8080/",
          "height": 354
        },
        "id": "mHm3maMCC3dh",
        "outputId": "7a0f4fda-ed05-4d15-80b8-8ce8029214c5"
      },
      "execution_count": 103,
      "outputs": [
        {
          "output_type": "execute_result",
          "data": {
            "text/plain": [
              "        MLS  sold_price  zipcode   longitude   latitude  lot_acres     taxes  \\\n",
              "0  21530491   5300000.0    85637 -110.378200  31.356362    2154.00   5272.00   \n",
              "1  21529082   4200000.0    85646 -111.045371  31.594213    1707.00  10422.36   \n",
              "2   3054672   4200000.0    85646 -111.040707  31.594844    1707.00  10482.00   \n",
              "3  21919321   4500000.0    85646 -111.035925  31.645878     636.67   8418.58   \n",
              "4  21306357   3411450.0    85750 -110.813768  32.285162       3.21  15393.00   \n",
              "\n",
              "   year_built  bedrooms bathrooms sqrt_ft garage  \\\n",
              "0        1941        13        10   10500      0   \n",
              "1        1997         2         2    7300      0   \n",
              "2        1997         2         3    None   None   \n",
              "3        1930         7         5    9019      4   \n",
              "4        1995         4         6    6396      3   \n",
              "\n",
              "                                    kitchen_features  fireplaces  \\\n",
              "0            Dishwasher, Freezer, Refrigerator, Oven         6.0   \n",
              "1                       Dishwasher, Garbage Disposal         5.0   \n",
              "2         Dishwasher, Garbage Disposal, Refrigerator         5.0   \n",
              "3  Dishwasher, Double Sink, Pantry: Butler, Refri...         4.0   \n",
              "4  Dishwasher, Garbage Disposal, Refrigerator, Mi...         5.0   \n",
              "\n",
              "                 floor_covering   HOA  \n",
              "0            Mexican Tile, Wood     0  \n",
              "1          Natural Stone, Other     0  \n",
              "2    Natural Stone, Other: Rock  None  \n",
              "3  Ceramic Tile, Laminate, Wood  None  \n",
              "4              Carpet, Concrete    55  "
            ],
            "text/html": [
              "\n",
              "  <div id=\"df-eb3fa9cd-aae8-4c83-a576-2a40d882165b\">\n",
              "    <div class=\"colab-df-container\">\n",
              "      <div>\n",
              "<style scoped>\n",
              "    .dataframe tbody tr th:only-of-type {\n",
              "        vertical-align: middle;\n",
              "    }\n",
              "\n",
              "    .dataframe tbody tr th {\n",
              "        vertical-align: top;\n",
              "    }\n",
              "\n",
              "    .dataframe thead th {\n",
              "        text-align: right;\n",
              "    }\n",
              "</style>\n",
              "<table border=\"1\" class=\"dataframe\">\n",
              "  <thead>\n",
              "    <tr style=\"text-align: right;\">\n",
              "      <th></th>\n",
              "      <th>MLS</th>\n",
              "      <th>sold_price</th>\n",
              "      <th>zipcode</th>\n",
              "      <th>longitude</th>\n",
              "      <th>latitude</th>\n",
              "      <th>lot_acres</th>\n",
              "      <th>taxes</th>\n",
              "      <th>year_built</th>\n",
              "      <th>bedrooms</th>\n",
              "      <th>bathrooms</th>\n",
              "      <th>sqrt_ft</th>\n",
              "      <th>garage</th>\n",
              "      <th>kitchen_features</th>\n",
              "      <th>fireplaces</th>\n",
              "      <th>floor_covering</th>\n",
              "      <th>HOA</th>\n",
              "    </tr>\n",
              "  </thead>\n",
              "  <tbody>\n",
              "    <tr>\n",
              "      <th>0</th>\n",
              "      <td>21530491</td>\n",
              "      <td>5300000.0</td>\n",
              "      <td>85637</td>\n",
              "      <td>-110.378200</td>\n",
              "      <td>31.356362</td>\n",
              "      <td>2154.00</td>\n",
              "      <td>5272.00</td>\n",
              "      <td>1941</td>\n",
              "      <td>13</td>\n",
              "      <td>10</td>\n",
              "      <td>10500</td>\n",
              "      <td>0</td>\n",
              "      <td>Dishwasher, Freezer, Refrigerator, Oven</td>\n",
              "      <td>6.0</td>\n",
              "      <td>Mexican Tile, Wood</td>\n",
              "      <td>0</td>\n",
              "    </tr>\n",
              "    <tr>\n",
              "      <th>1</th>\n",
              "      <td>21529082</td>\n",
              "      <td>4200000.0</td>\n",
              "      <td>85646</td>\n",
              "      <td>-111.045371</td>\n",
              "      <td>31.594213</td>\n",
              "      <td>1707.00</td>\n",
              "      <td>10422.36</td>\n",
              "      <td>1997</td>\n",
              "      <td>2</td>\n",
              "      <td>2</td>\n",
              "      <td>7300</td>\n",
              "      <td>0</td>\n",
              "      <td>Dishwasher, Garbage Disposal</td>\n",
              "      <td>5.0</td>\n",
              "      <td>Natural Stone, Other</td>\n",
              "      <td>0</td>\n",
              "    </tr>\n",
              "    <tr>\n",
              "      <th>2</th>\n",
              "      <td>3054672</td>\n",
              "      <td>4200000.0</td>\n",
              "      <td>85646</td>\n",
              "      <td>-111.040707</td>\n",
              "      <td>31.594844</td>\n",
              "      <td>1707.00</td>\n",
              "      <td>10482.00</td>\n",
              "      <td>1997</td>\n",
              "      <td>2</td>\n",
              "      <td>3</td>\n",
              "      <td>None</td>\n",
              "      <td>None</td>\n",
              "      <td>Dishwasher, Garbage Disposal, Refrigerator</td>\n",
              "      <td>5.0</td>\n",
              "      <td>Natural Stone, Other: Rock</td>\n",
              "      <td>None</td>\n",
              "    </tr>\n",
              "    <tr>\n",
              "      <th>3</th>\n",
              "      <td>21919321</td>\n",
              "      <td>4500000.0</td>\n",
              "      <td>85646</td>\n",
              "      <td>-111.035925</td>\n",
              "      <td>31.645878</td>\n",
              "      <td>636.67</td>\n",
              "      <td>8418.58</td>\n",
              "      <td>1930</td>\n",
              "      <td>7</td>\n",
              "      <td>5</td>\n",
              "      <td>9019</td>\n",
              "      <td>4</td>\n",
              "      <td>Dishwasher, Double Sink, Pantry: Butler, Refri...</td>\n",
              "      <td>4.0</td>\n",
              "      <td>Ceramic Tile, Laminate, Wood</td>\n",
              "      <td>None</td>\n",
              "    </tr>\n",
              "    <tr>\n",
              "      <th>4</th>\n",
              "      <td>21306357</td>\n",
              "      <td>3411450.0</td>\n",
              "      <td>85750</td>\n",
              "      <td>-110.813768</td>\n",
              "      <td>32.285162</td>\n",
              "      <td>3.21</td>\n",
              "      <td>15393.00</td>\n",
              "      <td>1995</td>\n",
              "      <td>4</td>\n",
              "      <td>6</td>\n",
              "      <td>6396</td>\n",
              "      <td>3</td>\n",
              "      <td>Dishwasher, Garbage Disposal, Refrigerator, Mi...</td>\n",
              "      <td>5.0</td>\n",
              "      <td>Carpet, Concrete</td>\n",
              "      <td>55</td>\n",
              "    </tr>\n",
              "  </tbody>\n",
              "</table>\n",
              "</div>\n",
              "      <button class=\"colab-df-convert\" onclick=\"convertToInteractive('df-eb3fa9cd-aae8-4c83-a576-2a40d882165b')\"\n",
              "              title=\"Convert this dataframe to an interactive table.\"\n",
              "              style=\"display:none;\">\n",
              "        \n",
              "  <svg xmlns=\"http://www.w3.org/2000/svg\" height=\"24px\"viewBox=\"0 0 24 24\"\n",
              "       width=\"24px\">\n",
              "    <path d=\"M0 0h24v24H0V0z\" fill=\"none\"/>\n",
              "    <path d=\"M18.56 5.44l.94 2.06.94-2.06 2.06-.94-2.06-.94-.94-2.06-.94 2.06-2.06.94zm-11 1L8.5 8.5l.94-2.06 2.06-.94-2.06-.94L8.5 2.5l-.94 2.06-2.06.94zm10 10l.94 2.06.94-2.06 2.06-.94-2.06-.94-.94-2.06-.94 2.06-2.06.94z\"/><path d=\"M17.41 7.96l-1.37-1.37c-.4-.4-.92-.59-1.43-.59-.52 0-1.04.2-1.43.59L10.3 9.45l-7.72 7.72c-.78.78-.78 2.05 0 2.83L4 21.41c.39.39.9.59 1.41.59.51 0 1.02-.2 1.41-.59l7.78-7.78 2.81-2.81c.8-.78.8-2.07 0-2.86zM5.41 20L4 18.59l7.72-7.72 1.47 1.35L5.41 20z\"/>\n",
              "  </svg>\n",
              "      </button>\n",
              "      \n",
              "  <style>\n",
              "    .colab-df-container {\n",
              "      display:flex;\n",
              "      flex-wrap:wrap;\n",
              "      gap: 12px;\n",
              "    }\n",
              "\n",
              "    .colab-df-convert {\n",
              "      background-color: #E8F0FE;\n",
              "      border: none;\n",
              "      border-radius: 50%;\n",
              "      cursor: pointer;\n",
              "      display: none;\n",
              "      fill: #1967D2;\n",
              "      height: 32px;\n",
              "      padding: 0 0 0 0;\n",
              "      width: 32px;\n",
              "    }\n",
              "\n",
              "    .colab-df-convert:hover {\n",
              "      background-color: #E2EBFA;\n",
              "      box-shadow: 0px 1px 2px rgba(60, 64, 67, 0.3), 0px 1px 3px 1px rgba(60, 64, 67, 0.15);\n",
              "      fill: #174EA6;\n",
              "    }\n",
              "\n",
              "    [theme=dark] .colab-df-convert {\n",
              "      background-color: #3B4455;\n",
              "      fill: #D2E3FC;\n",
              "    }\n",
              "\n",
              "    [theme=dark] .colab-df-convert:hover {\n",
              "      background-color: #434B5C;\n",
              "      box-shadow: 0px 1px 3px 1px rgba(0, 0, 0, 0.15);\n",
              "      filter: drop-shadow(0px 1px 2px rgba(0, 0, 0, 0.3));\n",
              "      fill: #FFFFFF;\n",
              "    }\n",
              "  </style>\n",
              "\n",
              "      <script>\n",
              "        const buttonEl =\n",
              "          document.querySelector('#df-eb3fa9cd-aae8-4c83-a576-2a40d882165b button.colab-df-convert');\n",
              "        buttonEl.style.display =\n",
              "          google.colab.kernel.accessAllowed ? 'block' : 'none';\n",
              "\n",
              "        async function convertToInteractive(key) {\n",
              "          const element = document.querySelector('#df-eb3fa9cd-aae8-4c83-a576-2a40d882165b');\n",
              "          const dataTable =\n",
              "            await google.colab.kernel.invokeFunction('convertToInteractive',\n",
              "                                                     [key], {});\n",
              "          if (!dataTable) return;\n",
              "\n",
              "          const docLinkHtml = 'Like what you see? Visit the ' +\n",
              "            '<a target=\"_blank\" href=https://colab.research.google.com/notebooks/data_table.ipynb>data table notebook</a>'\n",
              "            + ' to learn more about interactive tables.';\n",
              "          element.innerHTML = '';\n",
              "          dataTable['output_type'] = 'display_data';\n",
              "          await google.colab.output.renderOutput(dataTable, element);\n",
              "          const docLink = document.createElement('div');\n",
              "          docLink.innerHTML = docLinkHtml;\n",
              "          element.appendChild(docLink);\n",
              "        }\n",
              "      </script>\n",
              "    </div>\n",
              "  </div>\n",
              "  "
            ]
          },
          "metadata": {},
          "execution_count": 103
        }
      ]
    },
    {
      "cell_type": "code",
      "source": [
        "house.dtypes"
      ],
      "metadata": {
        "colab": {
          "base_uri": "https://localhost:8080/"
        },
        "id": "RTmbfHDN0Q1w",
        "outputId": "9ff44b49-09cb-472e-afad-a64a4514b507"
      },
      "execution_count": 104,
      "outputs": [
        {
          "output_type": "execute_result",
          "data": {
            "text/plain": [
              "MLS                   int64\n",
              "sold_price          float64\n",
              "zipcode               int64\n",
              "longitude           float64\n",
              "latitude            float64\n",
              "lot_acres           float64\n",
              "taxes               float64\n",
              "year_built            int64\n",
              "bedrooms              int64\n",
              "bathrooms            object\n",
              "sqrt_ft              object\n",
              "garage               object\n",
              "kitchen_features     object\n",
              "fireplaces          float64\n",
              "floor_covering       object\n",
              "HOA                  object\n",
              "dtype: object"
            ]
          },
          "metadata": {},
          "execution_count": 104
        }
      ]
    },
    {
      "cell_type": "code",
      "source": [
        "house.describe().T.round(2)"
      ],
      "metadata": {
        "colab": {
          "base_uri": "https://localhost:8080/",
          "height": 363
        },
        "id": "9sddL2LoVguJ",
        "outputId": "03fb6cdc-c836-4e59-ffae-b92d36914052"
      },
      "execution_count": 105,
      "outputs": [
        {
          "output_type": "execute_result",
          "data": {
            "text/plain": [
              "             count         mean         std         min          25%  \\\n",
              "MLS         5000.0  21270699.22  2398507.68  3042851.00  21407176.50   \n",
              "sold_price  5000.0    774626.20   318555.61   169000.00    585000.00   \n",
              "zipcode     5000.0     85723.03       38.06    85118.00     85718.00   \n",
              "longitude   5000.0      -110.91        0.12     -112.52      -110.98   \n",
              "latitude    5000.0        32.31        0.18       31.36        32.28   \n",
              "lot_acres   4990.0         4.66       51.69        0.00         0.58   \n",
              "taxes       5000.0      9402.83   172938.53        0.00      4803.61   \n",
              "year_built  5000.0      1992.33       65.49        0.00      1987.00   \n",
              "bedrooms    5000.0         3.93        1.25        1.00         3.00   \n",
              "fireplaces  4975.0         1.89        1.14        0.00         1.00   \n",
              "\n",
              "                    50%          75%          max  \n",
              "MLS         21614686.50  21804801.75  21928565.00  \n",
              "sold_price    675000.00    835000.00   5300000.00  \n",
              "zipcode        85737.00     85749.00     86323.00  \n",
              "longitude       -110.92      -110.86      -109.45  \n",
              "latitude          32.32        32.39        34.93  \n",
              "lot_acres          0.99         1.76      2154.00  \n",
              "taxes           6223.76      8082.83  12215075.00  \n",
              "year_built      1999.00      2006.00      2019.00  \n",
              "bedrooms           4.00         4.00        36.00  \n",
              "fireplaces         2.00         3.00         9.00  "
            ],
            "text/html": [
              "\n",
              "  <div id=\"df-c35ad3a3-2ea6-4daa-a545-5f2c46ba08a2\">\n",
              "    <div class=\"colab-df-container\">\n",
              "      <div>\n",
              "<style scoped>\n",
              "    .dataframe tbody tr th:only-of-type {\n",
              "        vertical-align: middle;\n",
              "    }\n",
              "\n",
              "    .dataframe tbody tr th {\n",
              "        vertical-align: top;\n",
              "    }\n",
              "\n",
              "    .dataframe thead th {\n",
              "        text-align: right;\n",
              "    }\n",
              "</style>\n",
              "<table border=\"1\" class=\"dataframe\">\n",
              "  <thead>\n",
              "    <tr style=\"text-align: right;\">\n",
              "      <th></th>\n",
              "      <th>count</th>\n",
              "      <th>mean</th>\n",
              "      <th>std</th>\n",
              "      <th>min</th>\n",
              "      <th>25%</th>\n",
              "      <th>50%</th>\n",
              "      <th>75%</th>\n",
              "      <th>max</th>\n",
              "    </tr>\n",
              "  </thead>\n",
              "  <tbody>\n",
              "    <tr>\n",
              "      <th>MLS</th>\n",
              "      <td>5000.0</td>\n",
              "      <td>21270699.22</td>\n",
              "      <td>2398507.68</td>\n",
              "      <td>3042851.00</td>\n",
              "      <td>21407176.50</td>\n",
              "      <td>21614686.50</td>\n",
              "      <td>21804801.75</td>\n",
              "      <td>21928565.00</td>\n",
              "    </tr>\n",
              "    <tr>\n",
              "      <th>sold_price</th>\n",
              "      <td>5000.0</td>\n",
              "      <td>774626.20</td>\n",
              "      <td>318555.61</td>\n",
              "      <td>169000.00</td>\n",
              "      <td>585000.00</td>\n",
              "      <td>675000.00</td>\n",
              "      <td>835000.00</td>\n",
              "      <td>5300000.00</td>\n",
              "    </tr>\n",
              "    <tr>\n",
              "      <th>zipcode</th>\n",
              "      <td>5000.0</td>\n",
              "      <td>85723.03</td>\n",
              "      <td>38.06</td>\n",
              "      <td>85118.00</td>\n",
              "      <td>85718.00</td>\n",
              "      <td>85737.00</td>\n",
              "      <td>85749.00</td>\n",
              "      <td>86323.00</td>\n",
              "    </tr>\n",
              "    <tr>\n",
              "      <th>longitude</th>\n",
              "      <td>5000.0</td>\n",
              "      <td>-110.91</td>\n",
              "      <td>0.12</td>\n",
              "      <td>-112.52</td>\n",
              "      <td>-110.98</td>\n",
              "      <td>-110.92</td>\n",
              "      <td>-110.86</td>\n",
              "      <td>-109.45</td>\n",
              "    </tr>\n",
              "    <tr>\n",
              "      <th>latitude</th>\n",
              "      <td>5000.0</td>\n",
              "      <td>32.31</td>\n",
              "      <td>0.18</td>\n",
              "      <td>31.36</td>\n",
              "      <td>32.28</td>\n",
              "      <td>32.32</td>\n",
              "      <td>32.39</td>\n",
              "      <td>34.93</td>\n",
              "    </tr>\n",
              "    <tr>\n",
              "      <th>lot_acres</th>\n",
              "      <td>4990.0</td>\n",
              "      <td>4.66</td>\n",
              "      <td>51.69</td>\n",
              "      <td>0.00</td>\n",
              "      <td>0.58</td>\n",
              "      <td>0.99</td>\n",
              "      <td>1.76</td>\n",
              "      <td>2154.00</td>\n",
              "    </tr>\n",
              "    <tr>\n",
              "      <th>taxes</th>\n",
              "      <td>5000.0</td>\n",
              "      <td>9402.83</td>\n",
              "      <td>172938.53</td>\n",
              "      <td>0.00</td>\n",
              "      <td>4803.61</td>\n",
              "      <td>6223.76</td>\n",
              "      <td>8082.83</td>\n",
              "      <td>12215075.00</td>\n",
              "    </tr>\n",
              "    <tr>\n",
              "      <th>year_built</th>\n",
              "      <td>5000.0</td>\n",
              "      <td>1992.33</td>\n",
              "      <td>65.49</td>\n",
              "      <td>0.00</td>\n",
              "      <td>1987.00</td>\n",
              "      <td>1999.00</td>\n",
              "      <td>2006.00</td>\n",
              "      <td>2019.00</td>\n",
              "    </tr>\n",
              "    <tr>\n",
              "      <th>bedrooms</th>\n",
              "      <td>5000.0</td>\n",
              "      <td>3.93</td>\n",
              "      <td>1.25</td>\n",
              "      <td>1.00</td>\n",
              "      <td>3.00</td>\n",
              "      <td>4.00</td>\n",
              "      <td>4.00</td>\n",
              "      <td>36.00</td>\n",
              "    </tr>\n",
              "    <tr>\n",
              "      <th>fireplaces</th>\n",
              "      <td>4975.0</td>\n",
              "      <td>1.89</td>\n",
              "      <td>1.14</td>\n",
              "      <td>0.00</td>\n",
              "      <td>1.00</td>\n",
              "      <td>2.00</td>\n",
              "      <td>3.00</td>\n",
              "      <td>9.00</td>\n",
              "    </tr>\n",
              "  </tbody>\n",
              "</table>\n",
              "</div>\n",
              "      <button class=\"colab-df-convert\" onclick=\"convertToInteractive('df-c35ad3a3-2ea6-4daa-a545-5f2c46ba08a2')\"\n",
              "              title=\"Convert this dataframe to an interactive table.\"\n",
              "              style=\"display:none;\">\n",
              "        \n",
              "  <svg xmlns=\"http://www.w3.org/2000/svg\" height=\"24px\"viewBox=\"0 0 24 24\"\n",
              "       width=\"24px\">\n",
              "    <path d=\"M0 0h24v24H0V0z\" fill=\"none\"/>\n",
              "    <path d=\"M18.56 5.44l.94 2.06.94-2.06 2.06-.94-2.06-.94-.94-2.06-.94 2.06-2.06.94zm-11 1L8.5 8.5l.94-2.06 2.06-.94-2.06-.94L8.5 2.5l-.94 2.06-2.06.94zm10 10l.94 2.06.94-2.06 2.06-.94-2.06-.94-.94-2.06-.94 2.06-2.06.94z\"/><path d=\"M17.41 7.96l-1.37-1.37c-.4-.4-.92-.59-1.43-.59-.52 0-1.04.2-1.43.59L10.3 9.45l-7.72 7.72c-.78.78-.78 2.05 0 2.83L4 21.41c.39.39.9.59 1.41.59.51 0 1.02-.2 1.41-.59l7.78-7.78 2.81-2.81c.8-.78.8-2.07 0-2.86zM5.41 20L4 18.59l7.72-7.72 1.47 1.35L5.41 20z\"/>\n",
              "  </svg>\n",
              "      </button>\n",
              "      \n",
              "  <style>\n",
              "    .colab-df-container {\n",
              "      display:flex;\n",
              "      flex-wrap:wrap;\n",
              "      gap: 12px;\n",
              "    }\n",
              "\n",
              "    .colab-df-convert {\n",
              "      background-color: #E8F0FE;\n",
              "      border: none;\n",
              "      border-radius: 50%;\n",
              "      cursor: pointer;\n",
              "      display: none;\n",
              "      fill: #1967D2;\n",
              "      height: 32px;\n",
              "      padding: 0 0 0 0;\n",
              "      width: 32px;\n",
              "    }\n",
              "\n",
              "    .colab-df-convert:hover {\n",
              "      background-color: #E2EBFA;\n",
              "      box-shadow: 0px 1px 2px rgba(60, 64, 67, 0.3), 0px 1px 3px 1px rgba(60, 64, 67, 0.15);\n",
              "      fill: #174EA6;\n",
              "    }\n",
              "\n",
              "    [theme=dark] .colab-df-convert {\n",
              "      background-color: #3B4455;\n",
              "      fill: #D2E3FC;\n",
              "    }\n",
              "\n",
              "    [theme=dark] .colab-df-convert:hover {\n",
              "      background-color: #434B5C;\n",
              "      box-shadow: 0px 1px 3px 1px rgba(0, 0, 0, 0.15);\n",
              "      filter: drop-shadow(0px 1px 2px rgba(0, 0, 0, 0.3));\n",
              "      fill: #FFFFFF;\n",
              "    }\n",
              "  </style>\n",
              "\n",
              "      <script>\n",
              "        const buttonEl =\n",
              "          document.querySelector('#df-c35ad3a3-2ea6-4daa-a545-5f2c46ba08a2 button.colab-df-convert');\n",
              "        buttonEl.style.display =\n",
              "          google.colab.kernel.accessAllowed ? 'block' : 'none';\n",
              "\n",
              "        async function convertToInteractive(key) {\n",
              "          const element = document.querySelector('#df-c35ad3a3-2ea6-4daa-a545-5f2c46ba08a2');\n",
              "          const dataTable =\n",
              "            await google.colab.kernel.invokeFunction('convertToInteractive',\n",
              "                                                     [key], {});\n",
              "          if (!dataTable) return;\n",
              "\n",
              "          const docLinkHtml = 'Like what you see? Visit the ' +\n",
              "            '<a target=\"_blank\" href=https://colab.research.google.com/notebooks/data_table.ipynb>data table notebook</a>'\n",
              "            + ' to learn more about interactive tables.';\n",
              "          element.innerHTML = '';\n",
              "          dataTable['output_type'] = 'display_data';\n",
              "          await google.colab.output.renderOutput(dataTable, element);\n",
              "          const docLink = document.createElement('div');\n",
              "          docLink.innerHTML = docLinkHtml;\n",
              "          element.appendChild(docLink);\n",
              "        }\n",
              "      </script>\n",
              "    </div>\n",
              "  </div>\n",
              "  "
            ]
          },
          "metadata": {},
          "execution_count": 105
        }
      ]
    },
    {
      "cell_type": "code",
      "source": [
        "print(house.shape)\n",
        "print(house.columns)\n",
        "print(house.isna().sum())"
      ],
      "metadata": {
        "colab": {
          "base_uri": "https://localhost:8080/"
        },
        "id": "xxW1t0QFCdIJ",
        "outputId": "08dd7e77-4025-43e3-ccde-298c4ab5b52f"
      },
      "execution_count": 106,
      "outputs": [
        {
          "output_type": "stream",
          "name": "stdout",
          "text": [
            "(5000, 16)\n",
            "Index(['MLS', 'sold_price', 'zipcode', 'longitude', 'latitude', 'lot_acres',\n",
            "       'taxes', 'year_built', 'bedrooms', 'bathrooms', 'sqrt_ft', 'garage',\n",
            "       'kitchen_features', 'fireplaces', 'floor_covering', 'HOA'],\n",
            "      dtype='object')\n",
            "MLS                  0\n",
            "sold_price           0\n",
            "zipcode              0\n",
            "longitude            0\n",
            "latitude             0\n",
            "lot_acres           10\n",
            "taxes                0\n",
            "year_built           0\n",
            "bedrooms             0\n",
            "bathrooms            0\n",
            "sqrt_ft              0\n",
            "garage               0\n",
            "kitchen_features     0\n",
            "fireplaces          25\n",
            "floor_covering       0\n",
            "HOA                  0\n",
            "dtype: int64\n"
          ]
        }
      ]
    },
    {
      "cell_type": "markdown",
      "source": [
        "## Drop NA's"
      ],
      "metadata": {
        "id": "ciH0ACc77IOo"
      }
    },
    {
      "cell_type": "code",
      "source": [
        "house = house.dropna()\n",
        "print(house.isna().sum())\n",
        "print(house.shape)"
      ],
      "metadata": {
        "colab": {
          "base_uri": "https://localhost:8080/"
        },
        "id": "NlS_Jvvv7Hln",
        "outputId": "bb686cbb-ea88-4bab-ae32-14cb2fae63b9"
      },
      "execution_count": 107,
      "outputs": [
        {
          "output_type": "stream",
          "name": "stdout",
          "text": [
            "MLS                 0\n",
            "sold_price          0\n",
            "zipcode             0\n",
            "longitude           0\n",
            "latitude            0\n",
            "lot_acres           0\n",
            "taxes               0\n",
            "year_built          0\n",
            "bedrooms            0\n",
            "bathrooms           0\n",
            "sqrt_ft             0\n",
            "garage              0\n",
            "kitchen_features    0\n",
            "fireplaces          0\n",
            "floor_covering      0\n",
            "HOA                 0\n",
            "dtype: int64\n",
            "(4973, 16)\n"
          ]
        }
      ]
    },
    {
      "cell_type": "code",
      "source": [
        "house['HOA'].value_counts().sort_index()[-1:]"
      ],
      "metadata": {
        "colab": {
          "base_uri": "https://localhost:8080/"
        },
        "id": "IQlFO4-pEaV6",
        "outputId": "53a9f86f-acc5-4a02-8b8a-2f8a8abe7ab2"
      },
      "execution_count": 108,
      "outputs": [
        {
          "output_type": "execute_result",
          "data": {
            "text/plain": [
              "None    556\n",
              "Name: HOA, dtype: int64"
            ]
          },
          "metadata": {},
          "execution_count": 108
        }
      ]
    },
    {
      "cell_type": "code",
      "source": [
        "house['HOA'].unique()"
      ],
      "metadata": {
        "colab": {
          "base_uri": "https://localhost:8080/"
        },
        "id": "OAE5NioPN4Fe",
        "outputId": "d0059029-1276-4e9d-e5f6-02cb1456dd6f"
      },
      "execution_count": 109,
      "outputs": [
        {
          "output_type": "execute_result",
          "data": {
            "text/plain": [
              "array(['0', 'None', '55', '422', '220', '421', '141.67', '357', '148',\n",
              "       '20,000', '142', '173', '167', '123', '300', '194', '1,717', '342',\n",
              "       '240', '437', '112', '199', '178', '550', '258', '188', '169',\n",
              "       '124', '320', '213', '153', '105', '159', '193', '69', '208', '50',\n",
              "       '168', '191', '79', '157', '323', '1,100', '250', '158', '127',\n",
              "       '149', '83', '118', '219', '88', '180', '259', '128', '117', '48',\n",
              "       '130', '132', '135', '152', '33', '143', '5', '157.33', '129',\n",
              "       '171', '273', '162', '131', '134', '211', '203', '190', '145',\n",
              "       '83.33', '63', '177.34', '57', '115', '166', '184', '164', '125',\n",
              "       '216', '195', '106', '214', '238', '212.88', '4', '30', '150',\n",
              "       '19', '160', '138', '141', '146', '1,270', '15', '95', '19,480',\n",
              "       '116', '311', '94', '21', '295', '57.33', '243', '23', '34', '215',\n",
              "       '41', '18', '110', '233', '322', '43', '232', '100', '133', '4.16',\n",
              "       '202', '700', '121', '40', '51', '179', '58', '102', '175', '97',\n",
              "       '25', '139', '120', '137', '53', '2,000', '242', '49.43', '333',\n",
              "       '270', '84', '8', '165', '506', '63.98', '35', '64', '258.08',\n",
              "       '108', '187', '186', '1,600', '212', '12', '209', '107', '45',\n",
              "       '52', '42', '145.83', '22', '96', '93', '122', '200', '241', '161',\n",
              "       '37.5', '119.66', '155', '299', '154', '170', '221', '303', '140',\n",
              "       '425', '172', '68', '75', '71', '44', '37', '6', '285', '67',\n",
              "       '54.16', '9', '113', '17', '192', '1,010', '78', '609', '26',\n",
              "       '213.88', '16', '54', '11', '39', '144', '56', '156', '263', '92',\n",
              "       '119', '60', '76', '70', '516', '141.66', '343', '72', '126', '80',\n",
              "       '247', '193.5', '20', '114', '43.75', '73', '317', '36.02',\n",
              "       '1,290', '147', '32', '10', '332.66', '43.01', '198', '332.67',\n",
              "       '69.16', '33.33', '16.67', '205', '58.33', '174', '249', '38',\n",
              "       '66', '40.55', '2', '43.71', '103', '13', '185', '111', '98',\n",
              "       '166.66', '8.33', '74', '49', '59', '89', '85', '62', '66.67',\n",
              "       '151', '225.21', '65', '86', '109', '101', '81', '24', '77',\n",
              "       '1,769', '50.42', '47', '73.72', '188.33', '257', '73.33', '269',\n",
              "       '4.17', '99', '225', '390', '40.77', '3', '194.51', '6.25',\n",
              "       '55.58', '7', '87', '90', '53.34', '275.08', '123.44', '267',\n",
              "       '183', '136', '16.66', '97.66', '39.59', '58.36', '40.78', '62.5',\n",
              "       '290', '330', '46', '36', '41.08', '5.5', '176', '1', '226',\n",
              "       '15.41', '283', '82', '91', '252', '14', '275', '29', '324', '325',\n",
              "       '87.66', '42.38', '5,900', '350', '233.33', '83.34', '8,333',\n",
              "       '765', '68.66', '253', '15.45', '5.25', '88.33', '60.5', '31',\n",
              "       '189', '487.88', '20.83', '328', '168.92', '14.58', '368', '57.5',\n",
              "       '61', '46.95', '750', '84.75', '34.17', '8.34', '5.41', '66.66',\n",
              "       '45.9', '337', '202.75', '149.04', '134.5', '2.08', '35.83',\n",
              "       '212.38', '10.83', '41.61', '925', '132.66', '41.66', '500',\n",
              "       '99.66', '18.75', '177', '234', '28', '104', '294', '38.55',\n",
              "       '63.33', '11.08', '210', '112.38', '5.4', '36.66', '78.65'],\n",
              "      dtype=object)"
            ]
          },
          "metadata": {},
          "execution_count": 109
        }
      ]
    },
    {
      "cell_type": "code",
      "source": [
        "house['HOA'] = house['HOA'].str.replace(',', '')\n",
        "mean_HOA = house['HOA'].loc[house['HOA'] != 'None']\n",
        "mean_HOA = mean_HOA.astype(float).mean().round(2)\n",
        "house['HOA'] = house['HOA'].replace('None', mean_HOA)\n",
        "#house['HOA'] = house.HOA.fillna(value=np.nan, inplace=True)\n",
        "#house['HOA'] = house['HOA'].astype(str).astype(float)\n",
        "#mean_HOA = house['HOA'].mean()\n",
        "#house['HOA'] = house['HOA'].fillna(mean_HOA, inplace=True)"
      ],
      "metadata": {
        "id": "zKzaa03ZRMo2"
      },
      "execution_count": 110,
      "outputs": []
    },
    {
      "cell_type": "code",
      "source": [
        "print(house['HOA'].shape)\n",
        "print(house['HOA'].unique())\n",
        "house['HOA']"
      ],
      "metadata": {
        "colab": {
          "base_uri": "https://localhost:8080/"
        },
        "id": "dWtN_U9bFwD0",
        "outputId": "fcf49012-6bd8-46d4-fabf-04e7557c9ef9"
      },
      "execution_count": 111,
      "outputs": [
        {
          "output_type": "stream",
          "name": "stdout",
          "text": [
            "(4973,)\n",
            "['0' 102.32 '55' '422' '220' '421' '141.67' '357' '148' '20000' '142'\n",
            " '173' '167' '123' '300' '194' '1717' '342' '240' '437' '112' '199' '178'\n",
            " '550' '258' '188' '169' '124' '320' '213' '153' '105' '159' '193' '69'\n",
            " '208' '50' '168' '191' '79' '157' '323' '1100' '250' '158' '127' '149'\n",
            " '83' '118' '219' '88' '180' '259' '128' '117' '48' '130' '132' '135'\n",
            " '152' '33' '143' '5' '157.33' '129' '171' '273' '162' '131' '134' '211'\n",
            " '203' '190' '145' '83.33' '63' '177.34' '57' '115' '166' '184' '164'\n",
            " '125' '216' '195' '106' '214' '238' '212.88' '4' '30' '150' '19' '160'\n",
            " '138' '141' '146' '1270' '15' '95' '19480' '116' '311' '94' '21' '295'\n",
            " '57.33' '243' '23' '34' '215' '41' '18' '110' '233' '322' '43' '232'\n",
            " '100' '133' '4.16' '202' '700' '121' '40' '51' '179' '58' '102' '175'\n",
            " '97' '25' '139' '120' '137' '53' '2000' '242' '49.43' '333' '270' '84'\n",
            " '8' '165' '506' '63.98' '35' '64' '258.08' '108' '187' '186' '1600' '212'\n",
            " '12' '209' '107' '45' '52' '42' '145.83' '22' '96' '93' '122' '200' '241'\n",
            " '161' '37.5' '119.66' '155' '299' '154' '170' '221' '303' '140' '425'\n",
            " '172' '68' '75' '71' '44' '37' '6' '285' '67' '54.16' '9' '113' '17'\n",
            " '192' '1010' '78' '609' '26' '213.88' '16' '54' '11' '39' '144' '56'\n",
            " '156' '263' '92' '119' '60' '76' '70' '516' '141.66' '343' '72' '126'\n",
            " '80' '247' '193.5' '20' '114' '43.75' '73' '317' '36.02' '1290' '147'\n",
            " '32' '10' '332.66' '43.01' '198' '332.67' '69.16' '33.33' '16.67' '205'\n",
            " '58.33' '174' '249' '38' '66' '40.55' '2' '43.71' '103' '13' '185' '111'\n",
            " '98' '166.66' '8.33' '74' '49' '59' '89' '85' '62' '66.67' '151' '225.21'\n",
            " '65' '86' '109' '101' '81' '24' '77' '1769' '50.42' '47' '73.72' '188.33'\n",
            " '257' '73.33' '269' '4.17' '99' '225' '390' '40.77' '3' '194.51' '6.25'\n",
            " '55.58' '7' '87' '90' '53.34' '275.08' '123.44' '267' '183' '136' '16.66'\n",
            " '97.66' '39.59' '58.36' '40.78' '62.5' '290' '330' '46' '36' '41.08'\n",
            " '5.5' '176' '1' '226' '15.41' '283' '82' '91' '252' '14' '275' '29' '324'\n",
            " '325' '87.66' '42.38' '5900' '350' '233.33' '83.34' '8333' '765' '68.66'\n",
            " '253' '15.45' '5.25' '88.33' '60.5' '31' '189' '487.88' '20.83' '328'\n",
            " '168.92' '14.58' '368' '57.5' '61' '46.95' '750' '84.75' '34.17' '8.34'\n",
            " '5.41' '66.66' '45.9' '337' '202.75' '149.04' '134.5' '2.08' '35.83'\n",
            " '212.38' '10.83' '41.61' '925' '132.66' '41.66' '500' '99.66' '18.75'\n",
            " '177' '234' '28' '104' '294' '38.55' '63.33' '11.08' '210' '112.38' '5.4'\n",
            " '36.66' '78.65']\n"
          ]
        },
        {
          "output_type": "execute_result",
          "data": {
            "text/plain": [
              "0            0\n",
              "1            0\n",
              "2       102.32\n",
              "3       102.32\n",
              "4           55\n",
              "         ...  \n",
              "4995    102.32\n",
              "4996        43\n",
              "4997    102.32\n",
              "4998    102.32\n",
              "4999    102.32\n",
              "Name: HOA, Length: 4973, dtype: object"
            ]
          },
          "metadata": {},
          "execution_count": 111
        }
      ]
    },
    {
      "cell_type": "code",
      "source": [
        "print(house.shape)\n",
        "house = house.replace(to_replace='None', value=np.nan)\n",
        "print(house.isna().sum())\n",
        "house = house.dropna()\n",
        "print(house.shape)"
      ],
      "metadata": {
        "colab": {
          "base_uri": "https://localhost:8080/"
        },
        "id": "2MisJAxjDVX0",
        "outputId": "9ccbfe61-fe1b-45c1-fd51-6a9329dfe5d3"
      },
      "execution_count": 112,
      "outputs": [
        {
          "output_type": "stream",
          "name": "stdout",
          "text": [
            "(4973, 16)\n",
            "MLS                  0\n",
            "sold_price           0\n",
            "zipcode              0\n",
            "longitude            0\n",
            "latitude             0\n",
            "lot_acres            0\n",
            "taxes                0\n",
            "year_built           0\n",
            "bedrooms             0\n",
            "bathrooms            0\n",
            "sqrt_ft             29\n",
            "garage               7\n",
            "kitchen_features    32\n",
            "fireplaces           0\n",
            "floor_covering       0\n",
            "HOA                  0\n",
            "dtype: int64\n",
            "(4908, 16)\n"
          ]
        }
      ]
    },
    {
      "cell_type": "code",
      "source": [
        "#house['HOA'].fillna((house['HOA'].mean()), inplace=True)\n",
        "#print(house.isna().sum())\n",
        "#house = house.dropna()\n",
        "#print(house.shape)"
      ],
      "metadata": {
        "id": "qP2nvWDHG8cf"
      },
      "execution_count": 113,
      "outputs": []
    },
    {
      "cell_type": "code",
      "source": [
        "house.max()"
      ],
      "metadata": {
        "colab": {
          "base_uri": "https://localhost:8080/"
        },
        "id": "NmRZqkCX-3zr",
        "outputId": "5c4ef848-b9bb-47c6-dd7b-ee9f2962995f"
      },
      "execution_count": 114,
      "outputs": [
        {
          "output_type": "stream",
          "name": "stderr",
          "text": [
            "<ipython-input-114-efe1613af233>:1: FutureWarning: Dropping of nuisance columns in DataFrame reductions (with 'numeric_only=None') is deprecated; in a future version this will raise TypeError.  Select only valid columns before calling the reduction.\n",
            "  house.max()\n"
          ]
        },
        {
          "output_type": "execute_result",
          "data": {
            "text/plain": [
              "MLS                                    21928565\n",
              "sold_price                            5300000.0\n",
              "zipcode                                   86323\n",
              "longitude                           -109.454637\n",
              "latitude                              34.927884\n",
              "lot_acres                                2154.0\n",
              "taxes                                12215075.0\n",
              "year_built                                 2019\n",
              "bedrooms                                     36\n",
              "bathrooms                                     9\n",
              "sqrt_ft                                    9858\n",
              "garage                                        9\n",
              "kitchen_features                        Wet Bar\n",
              "fireplaces                                  9.0\n",
              "floor_covering      Wood, Other: porcelain tile\n",
              "dtype: object"
            ]
          },
          "metadata": {},
          "execution_count": 114
        }
      ]
    },
    {
      "cell_type": "code",
      "source": [
        "house.min()"
      ],
      "metadata": {
        "colab": {
          "base_uri": "https://localhost:8080/"
        },
        "id": "V5V0V113BLKx",
        "outputId": "4f2bab87-62b1-41cb-d3e2-572da77f25c8"
      },
      "execution_count": 115,
      "outputs": [
        {
          "output_type": "stream",
          "name": "stderr",
          "text": [
            "<ipython-input-115-865a59f4e435>:1: FutureWarning: Dropping of nuisance columns in DataFrame reductions (with 'numeric_only=None') is deprecated; in a future version this will raise TypeError.  Select only valid columns before calling the reduction.\n",
            "  house.min()\n"
          ]
        },
        {
          "output_type": "execute_result",
          "data": {
            "text/plain": [
              "MLS                                                           4110917\n",
              "sold_price                                                   300000.0\n",
              "zipcode                                                         85118\n",
              "longitude                                                 -112.520168\n",
              "latitude                                                    31.356362\n",
              "lot_acres                                                         0.0\n",
              "taxes                                                             0.0\n",
              "year_built                                                          0\n",
              "bedrooms                                                            1\n",
              "bathrooms                                                           1\n",
              "sqrt_ft                                                         10258\n",
              "garage                                                              0\n",
              "kitchen_features    # of Ovens: 1, Dishwasher, Freezer, Garbage Di...\n",
              "fireplaces                                                        0.0\n",
              "floor_covering                                                 Carpet\n",
              "dtype: object"
            ]
          },
          "metadata": {},
          "execution_count": 115
        }
      ]
    },
    {
      "cell_type": "code",
      "source": [
        "sns.boxplot(house['lot_acres'])"
      ],
      "metadata": {
        "colab": {
          "base_uri": "https://localhost:8080/",
          "height": 282
        },
        "id": "xsnRH8pZ2Xc1",
        "outputId": "ebdcb524-0301-44ab-b05c-500af8576d21"
      },
      "execution_count": 116,
      "outputs": [
        {
          "output_type": "execute_result",
          "data": {
            "text/plain": [
              "<Axes: >"
            ]
          },
          "metadata": {},
          "execution_count": 116
        },
        {
          "output_type": "display_data",
          "data": {
            "text/plain": [
              "<Figure size 432x288 with 1 Axes>"
            ],
            "image/png": "[encoded data removed]"
          },
          "metadata": {
            "needs_background": "light"
          }
        }
      ]
    },
    {
      "cell_type": "code",
      "source": [
        "sns.boxplot(house['year_built'])"
      ],
      "metadata": {
        "colab": {
          "base_uri": "https://localhost:8080/",
          "height": 282
        },
        "id": "tCfyuMFe1-Tn",
        "outputId": "8ce92f7f-c741-4f59-83e8-6f045ebb79b2"
      },
      "execution_count": 117,
      "outputs": [
        {
          "output_type": "execute_result",
          "data": {
            "text/plain": [
              "<Axes: >"
            ]
          },
          "metadata": {},
          "execution_count": 117
        },
        {
          "output_type": "display_data",
          "data": {
            "text/plain": [
              "<Figure size 432x288 with 1 Axes>"
            ],
            "image/png": "[encoded data removed]"
          },
          "metadata": {
            "needs_background": "light"
          }
        }
      ]
    },
    {
      "cell_type": "code",
      "source": [
        "print(house.shape)\n",
        "house = house.loc[house['year_built'] != 0]\n",
        "print(house.shape)\n",
        "house = house.loc[house['lot_acres'] != 0]\n",
        "print(house.shape)"
      ],
      "metadata": {
        "colab": {
          "base_uri": "https://localhost:8080/"
        },
        "id": "l45H-TeM4keD",
        "outputId": "aff93153-6d50-463b-f753-846453fc0a9a"
      },
      "execution_count": 118,
      "outputs": [
        {
          "output_type": "stream",
          "name": "stdout",
          "text": [
            "(4908, 16)\n",
            "(4903, 16)\n",
            "(4868, 16)\n"
          ]
        }
      ]
    },
    {
      "cell_type": "code",
      "source": [
        "sns.boxplot(house['lot_acres'])"
      ],
      "metadata": {
        "colab": {
          "base_uri": "https://localhost:8080/",
          "height": 282
        },
        "id": "pi_JLx-_5m_P",
        "outputId": "57fc125a-1a2b-45f8-b587-f7ace15dd086"
      },
      "execution_count": 119,
      "outputs": [
        {
          "output_type": "execute_result",
          "data": {
            "text/plain": [
              "<Axes: >"
            ]
          },
          "metadata": {},
          "execution_count": 119
        },
        {
          "output_type": "display_data",
          "data": {
            "text/plain": [
              "<Figure size 432x288 with 1 Axes>"
            ],
            "image/png": "[encoded data removed]"
          },
          "metadata": {
            "needs_background": "light"
          }
        }
      ]
    },
    {
      "cell_type": "code",
      "source": [
        "sns.boxplot(house['year_built'])"
      ],
      "metadata": {
        "colab": {
          "base_uri": "https://localhost:8080/",
          "height": 282
        },
        "id": "tY1vkXcF5m6M",
        "outputId": "31b99213-c7fc-4213-d75b-c43d628781da"
      },
      "execution_count": 120,
      "outputs": [
        {
          "output_type": "execute_result",
          "data": {
            "text/plain": [
              "<Axes: >"
            ]
          },
          "metadata": {},
          "execution_count": 120
        },
        {
          "output_type": "display_data",
          "data": {
            "text/plain": [
              "<Figure size 432x288 with 1 Axes>"
            ],
            "image/png": "[encoded data removed]"
          },
          "metadata": {
            "needs_background": "light"
          }
        }
      ]
    },
    {
      "cell_type": "code",
      "source": [
        "house.max()"
      ],
      "metadata": {
        "colab": {
          "base_uri": "https://localhost:8080/"
        },
        "id": "nrFa_K_v6frI",
        "outputId": "289ef47d-86a0-46c4-9056-dcbd7f8b4962"
      },
      "execution_count": 121,
      "outputs": [
        {
          "output_type": "stream",
          "name": "stderr",
          "text": [
            "<ipython-input-121-efe1613af233>:1: FutureWarning: Dropping of nuisance columns in DataFrame reductions (with 'numeric_only=None') is deprecated; in a future version this will raise TypeError.  Select only valid columns before calling the reduction.\n",
            "  house.max()\n"
          ]
        },
        {
          "output_type": "execute_result",
          "data": {
            "text/plain": [
              "MLS                                    21928565\n",
              "sold_price                            5300000.0\n",
              "zipcode                                   86323\n",
              "longitude                           -109.454637\n",
              "latitude                              34.927884\n",
              "lot_acres                                2154.0\n",
              "taxes                                12215075.0\n",
              "year_built                                 2019\n",
              "bedrooms                                     36\n",
              "bathrooms                                     9\n",
              "sqrt_ft                                    9858\n",
              "garage                                        9\n",
              "kitchen_features                        Wet Bar\n",
              "fireplaces                                  9.0\n",
              "floor_covering      Wood, Other: porcelain tile\n",
              "dtype: object"
            ]
          },
          "metadata": {},
          "execution_count": 121
        }
      ]
    },
    {
      "cell_type": "code",
      "source": [
        "house.min()"
      ],
      "metadata": {
        "colab": {
          "base_uri": "https://localhost:8080/"
        },
        "id": "9mF8i7u86nit",
        "outputId": "7a891963-23b1-461f-ccc9-82c57a83cedc"
      },
      "execution_count": 122,
      "outputs": [
        {
          "output_type": "stream",
          "name": "stderr",
          "text": [
            "<ipython-input-122-865a59f4e435>:1: FutureWarning: Dropping of nuisance columns in DataFrame reductions (with 'numeric_only=None') is deprecated; in a future version this will raise TypeError.  Select only valid columns before calling the reduction.\n",
            "  house.min()\n"
          ]
        },
        {
          "output_type": "execute_result",
          "data": {
            "text/plain": [
              "MLS                                                           4110917\n",
              "sold_price                                                   300000.0\n",
              "zipcode                                                         85118\n",
              "longitude                                                 -112.520168\n",
              "latitude                                                    31.356362\n",
              "lot_acres                                                        0.02\n",
              "taxes                                                             0.0\n",
              "year_built                                                       1893\n",
              "bedrooms                                                            1\n",
              "bathrooms                                                           1\n",
              "sqrt_ft                                                         10258\n",
              "garage                                                              0\n",
              "kitchen_features    # of Ovens: 1, Dishwasher, Freezer, Garbage Di...\n",
              "fireplaces                                                        0.0\n",
              "floor_covering                                                 Carpet\n",
              "dtype: object"
            ]
          },
          "metadata": {},
          "execution_count": 122
        }
      ]
    },
    {
      "cell_type": "code",
      "source": [
        "house.sort_values(by=['lot_acres']).head(10)"
      ],
      "metadata": {
        "colab": {
          "base_uri": "https://localhost:8080/",
          "height": 684
        },
        "id": "QXCPC5-U7BMt",
        "outputId": "c67e316f-ca43-4a1e-f27f-5e29004823b3"
      },
      "execution_count": 123,
      "outputs": [
        {
          "output_type": "execute_result",
          "data": {
            "text/plain": [
              "           MLS  sold_price  zipcode   longitude   latitude  lot_acres  \\\n",
              "3399  21819891    580000.0    85712 -110.888518  32.262718       0.02   \n",
              "2138  21902353    728400.0    85755 -110.985712  32.467526       0.02   \n",
              "4534  21830062    571650.0    85745 -110.985754  32.218193       0.03   \n",
              "1572  21719453    799000.0    85715 -110.846450  32.260804       0.04   \n",
              "2011  21814433    737000.0    85745 -110.986717  32.218715       0.04   \n",
              "4880  21523997    550000.0    85745 -110.986033  32.219063       0.05   \n",
              "4954  21801191    550000.0    85745 -110.986109  32.219053       0.05   \n",
              "2770  21913717    670000.0    85745 -110.986109  32.219053       0.05   \n",
              "2549  21819461    680000.0    85745 -110.986032  32.219062       0.05   \n",
              "4380  21330543    575000.0    85745 -110.985809  32.218848       0.06   \n",
              "\n",
              "        taxes  year_built  bedrooms bathrooms sqrt_ft garage  \\\n",
              "3399  5151.00        2001         2         3    2348      2   \n",
              "2138  1644.23        2019         3         3    1942      2   \n",
              "4534  3186.79        2011         3         2    2024      0   \n",
              "1572  7295.74        1980         5         4    3417      2   \n",
              "2011   503.92        2017         3         3    2130      1   \n",
              "4880  3957.42        2011         2         3    1690      2   \n",
              "4954  4812.81        2007         3         2    1957      2   \n",
              "2770  5043.10        2007         3         2    1957      2   \n",
              "2549  4445.66        2011         2         3    1690      2   \n",
              "4380   682.00        2013         3         3    2300      2   \n",
              "\n",
              "                                       kitchen_features  fireplaces  \\\n",
              "3399  Dishwasher, Garbage Disposal, Gas Range, Islan...         2.0   \n",
              "2138  Dishwasher, Garbage Disposal, Gas Range, Islan...         1.0   \n",
              "4534  Dishwasher, Garbage Disposal, Gas Range, Pantr...         0.0   \n",
              "1572         Dishwasher, Garbage Disposal, Refrigerator         3.0   \n",
              "2011  Dishwasher, Freezer, Garbage Disposal, Gas Ran...         0.0   \n",
              "4880   Dishwasher, Garbage Disposal, Refrigerator, Oven         1.0   \n",
              "4954  Dishwasher, Double Sink, Garbage Disposal, Gas...         0.0   \n",
              "2770  Dishwasher, Garbage Disposal, Gas Range, Pantr...         0.0   \n",
              "2549  Dishwasher, Gas Range, Pantry: Cabinet, Refrig...         1.0   \n",
              "4380                      Refrigerator, Microwave, Oven         0.0   \n",
              "\n",
              "              floor_covering  HOA  \n",
              "3399                Concrete   95  \n",
              "2138    Carpet, Ceramic Tile  213  \n",
              "4534  Concrete, Mexican Tile   99  \n",
              "1572           Natural Stone  144  \n",
              "2011          Concrete, Wood   99  \n",
              "4880  Concrete, Mexican Tile   99  \n",
              "4954  Concrete, Mexican Tile   99  \n",
              "2770  Ceramic Tile, Concrete   99  \n",
              "2549  Concrete, Mexican Tile   99  \n",
              "4380          Concrete, Wood   99  "
            ],
            "text/html": [
              "\n",
              "  <div id=\"df-0772f23d-8332-47ba-a52f-d42397e25966\">\n",
              "    <div class=\"colab-df-container\">\n",
              "      <div>\n",
              "<style scoped>\n",
              "    .dataframe tbody tr th:only-of-type {\n",
              "        vertical-align: middle;\n",
              "    }\n",
              "\n",
              "    .dataframe tbody tr th {\n",
              "        vertical-align: top;\n",
              "    }\n",
              "\n",
              "    .dataframe thead th {\n",
              "        text-align: right;\n",
              "    }\n",
              "</style>\n",
              "<table border=\"1\" class=\"dataframe\">\n",
              "  <thead>\n",
              "    <tr style=\"text-align: right;\">\n",
              "      <th></th>\n",
              "      <th>MLS</th>\n",
              "      <th>sold_price</th>\n",
              "      <th>zipcode</th>\n",
              "      <th>longitude</th>\n",
              "      <th>latitude</th>\n",
              "      <th>lot_acres</th>\n",
              "      <th>taxes</th>\n",
              "      <th>year_built</th>\n",
              "      <th>bedrooms</th>\n",
              "      <th>bathrooms</th>\n",
              "      <th>sqrt_ft</th>\n",
              "      <th>garage</th>\n",
              "      <th>kitchen_features</th>\n",
              "      <th>fireplaces</th>\n",
              "      <th>floor_covering</th>\n",
              "      <th>HOA</th>\n",
              "    </tr>\n",
              "  </thead>\n",
              "  <tbody>\n",
              "    <tr>\n",
              "      <th>3399</th>\n",
              "      <td>21819891</td>\n",
              "      <td>580000.0</td>\n",
              "      <td>85712</td>\n",
              "      <td>-110.888518</td>\n",
              "      <td>32.262718</td>\n",
              "      <td>0.02</td>\n",
              "      <td>5151.00</td>\n",
              "      <td>2001</td>\n",
              "      <td>2</td>\n",
              "      <td>3</td>\n",
              "      <td>2348</td>\n",
              "      <td>2</td>\n",
              "      <td>Dishwasher, Garbage Disposal, Gas Range, Islan...</td>\n",
              "      <td>2.0</td>\n",
              "      <td>Concrete</td>\n",
              "      <td>95</td>\n",
              "    </tr>\n",
              "    <tr>\n",
              "      <th>2138</th>\n",
              "      <td>21902353</td>\n",
              "      <td>728400.0</td>\n",
              "      <td>85755</td>\n",
              "      <td>-110.985712</td>\n",
              "      <td>32.467526</td>\n",
              "      <td>0.02</td>\n",
              "      <td>1644.23</td>\n",
              "      <td>2019</td>\n",
              "      <td>3</td>\n",
              "      <td>3</td>\n",
              "      <td>1942</td>\n",
              "      <td>2</td>\n",
              "      <td>Dishwasher, Garbage Disposal, Gas Range, Islan...</td>\n",
              "      <td>1.0</td>\n",
              "      <td>Carpet, Ceramic Tile</td>\n",
              "      <td>213</td>\n",
              "    </tr>\n",
              "    <tr>\n",
              "      <th>4534</th>\n",
              "      <td>21830062</td>\n",
              "      <td>571650.0</td>\n",
              "      <td>85745</td>\n",
              "      <td>-110.985754</td>\n",
              "      <td>32.218193</td>\n",
              "      <td>0.03</td>\n",
              "      <td>3186.79</td>\n",
              "      <td>2011</td>\n",
              "      <td>3</td>\n",
              "      <td>2</td>\n",
              "      <td>2024</td>\n",
              "      <td>0</td>\n",
              "      <td>Dishwasher, Garbage Disposal, Gas Range, Pantr...</td>\n",
              "      <td>0.0</td>\n",
              "      <td>Concrete, Mexican Tile</td>\n",
              "      <td>99</td>\n",
              "    </tr>\n",
              "    <tr>\n",
              "      <th>1572</th>\n",
              "      <td>21719453</td>\n",
              "      <td>799000.0</td>\n",
              "      <td>85715</td>\n",
              "      <td>-110.846450</td>\n",
              "      <td>32.260804</td>\n",
              "      <td>0.04</td>\n",
              "      <td>7295.74</td>\n",
              "      <td>1980</td>\n",
              "      <td>5</td>\n",
              "      <td>4</td>\n",
              "      <td>3417</td>\n",
              "      <td>2</td>\n",
              "      <td>Dishwasher, Garbage Disposal, Refrigerator</td>\n",
              "      <td>3.0</td>\n",
              "      <td>Natural Stone</td>\n",
              "      <td>144</td>\n",
              "    </tr>\n",
              "    <tr>\n",
              "      <th>2011</th>\n",
              "      <td>21814433</td>\n",
              "      <td>737000.0</td>\n",
              "      <td>85745</td>\n",
              "      <td>-110.986717</td>\n",
              "      <td>32.218715</td>\n",
              "      <td>0.04</td>\n",
              "      <td>503.92</td>\n",
              "      <td>2017</td>\n",
              "      <td>3</td>\n",
              "      <td>3</td>\n",
              "      <td>2130</td>\n",
              "      <td>1</td>\n",
              "      <td>Dishwasher, Freezer, Garbage Disposal, Gas Ran...</td>\n",
              "      <td>0.0</td>\n",
              "      <td>Concrete, Wood</td>\n",
              "      <td>99</td>\n",
              "    </tr>\n",
              "    <tr>\n",
              "      <th>4880</th>\n",
              "      <td>21523997</td>\n",
              "      <td>550000.0</td>\n",
              "      <td>85745</td>\n",
              "      <td>-110.986033</td>\n",
              "      <td>32.219063</td>\n",
              "      <td>0.05</td>\n",
              "      <td>3957.42</td>\n",
              "      <td>2011</td>\n",
              "      <td>2</td>\n",
              "      <td>3</td>\n",
              "      <td>1690</td>\n",
              "      <td>2</td>\n",
              "      <td>Dishwasher, Garbage Disposal, Refrigerator, Oven</td>\n",
              "      <td>1.0</td>\n",
              "      <td>Concrete, Mexican Tile</td>\n",
              "      <td>99</td>\n",
              "    </tr>\n",
              "    <tr>\n",
              "      <th>4954</th>\n",
              "      <td>21801191</td>\n",
              "      <td>550000.0</td>\n",
              "      <td>85745</td>\n",
              "      <td>-110.986109</td>\n",
              "      <td>32.219053</td>\n",
              "      <td>0.05</td>\n",
              "      <td>4812.81</td>\n",
              "      <td>2007</td>\n",
              "      <td>3</td>\n",
              "      <td>2</td>\n",
              "      <td>1957</td>\n",
              "      <td>2</td>\n",
              "      <td>Dishwasher, Double Sink, Garbage Disposal, Gas...</td>\n",
              "      <td>0.0</td>\n",
              "      <td>Concrete, Mexican Tile</td>\n",
              "      <td>99</td>\n",
              "    </tr>\n",
              "    <tr>\n",
              "      <th>2770</th>\n",
              "      <td>21913717</td>\n",
              "      <td>670000.0</td>\n",
              "      <td>85745</td>\n",
              "      <td>-110.986109</td>\n",
              "      <td>32.219053</td>\n",
              "      <td>0.05</td>\n",
              "      <td>5043.10</td>\n",
              "      <td>2007</td>\n",
              "      <td>3</td>\n",
              "      <td>2</td>\n",
              "      <td>1957</td>\n",
              "      <td>2</td>\n",
              "      <td>Dishwasher, Garbage Disposal, Gas Range, Pantr...</td>\n",
              "      <td>0.0</td>\n",
              "      <td>Ceramic Tile, Concrete</td>\n",
              "      <td>99</td>\n",
              "    </tr>\n",
              "    <tr>\n",
              "      <th>2549</th>\n",
              "      <td>21819461</td>\n",
              "      <td>680000.0</td>\n",
              "      <td>85745</td>\n",
              "      <td>-110.986032</td>\n",
              "      <td>32.219062</td>\n",
              "      <td>0.05</td>\n",
              "      <td>4445.66</td>\n",
              "      <td>2011</td>\n",
              "      <td>2</td>\n",
              "      <td>3</td>\n",
              "      <td>1690</td>\n",
              "      <td>2</td>\n",
              "      <td>Dishwasher, Gas Range, Pantry: Cabinet, Refrig...</td>\n",
              "      <td>1.0</td>\n",
              "      <td>Concrete, Mexican Tile</td>\n",
              "      <td>99</td>\n",
              "    </tr>\n",
              "    <tr>\n",
              "      <th>4380</th>\n",
              "      <td>21330543</td>\n",
              "      <td>575000.0</td>\n",
              "      <td>85745</td>\n",
              "      <td>-110.985809</td>\n",
              "      <td>32.218848</td>\n",
              "      <td>0.06</td>\n",
              "      <td>682.00</td>\n",
              "      <td>2013</td>\n",
              "      <td>3</td>\n",
              "      <td>3</td>\n",
              "      <td>2300</td>\n",
              "      <td>2</td>\n",
              "      <td>Refrigerator, Microwave, Oven</td>\n",
              "      <td>0.0</td>\n",
              "      <td>Concrete, Wood</td>\n",
              "      <td>99</td>\n",
              "    </tr>\n",
              "  </tbody>\n",
              "</table>\n",
              "</div>\n",
              "      <button class=\"colab-df-convert\" onclick=\"convertToInteractive('df-0772f23d-8332-47ba-a52f-d42397e25966')\"\n",
              "              title=\"Convert this dataframe to an interactive table.\"\n",
              "              style=\"display:none;\">\n",
              "        \n",
              "  <svg xmlns=\"http://www.w3.org/2000/svg\" height=\"24px\"viewBox=\"0 0 24 24\"\n",
              "       width=\"24px\">\n",
              "    <path d=\"M0 0h24v24H0V0z\" fill=\"none\"/>\n",
              "    <path d=\"M18.56 5.44l.94 2.06.94-2.06 2.06-.94-2.06-.94-.94-2.06-.94 2.06-2.06.94zm-11 1L8.5 8.5l.94-2.06 2.06-.94-2.06-.94L8.5 2.5l-.94 2.06-2.06.94zm10 10l.94 2.06.94-2.06 2.06-.94-2.06-.94-.94-2.06-.94 2.06-2.06.94z\"/><path d=\"M17.41 7.96l-1.37-1.37c-.4-.4-.92-.59-1.43-.59-.52 0-1.04.2-1.43.59L10.3 9.45l-7.72 7.72c-.78.78-.78 2.05 0 2.83L4 21.41c.39.39.9.59 1.41.59.51 0 1.02-.2 1.41-.59l7.78-7.78 2.81-2.81c.8-.78.8-2.07 0-2.86zM5.41 20L4 18.59l7.72-7.72 1.47 1.35L5.41 20z\"/>\n",
              "  </svg>\n",
              "      </button>\n",
              "      \n",
              "  <style>\n",
              "    .colab-df-container {\n",
              "      display:flex;\n",
              "      flex-wrap:wrap;\n",
              "      gap: 12px;\n",
              "    }\n",
              "\n",
              "    .colab-df-convert {\n",
              "      background-color: #E8F0FE;\n",
              "      border: none;\n",
              "      border-radius: 50%;\n",
              "      cursor: pointer;\n",
              "      display: none;\n",
              "      fill: #1967D2;\n",
              "      height: 32px;\n",
              "      padding: 0 0 0 0;\n",
              "      width: 32px;\n",
              "    }\n",
              "\n",
              "    .colab-df-convert:hover {\n",
              "      background-color: #E2EBFA;\n",
              "      box-shadow: 0px 1px 2px rgba(60, 64, 67, 0.3), 0px 1px 3px 1px rgba(60, 64, 67, 0.15);\n",
              "      fill: #174EA6;\n",
              "    }\n",
              "\n",
              "    [theme=dark] .colab-df-convert {\n",
              "      background-color: #3B4455;\n",
              "      fill: #D2E3FC;\n",
              "    }\n",
              "\n",
              "    [theme=dark] .colab-df-convert:hover {\n",
              "      background-color: #434B5C;\n",
              "      box-shadow: 0px 1px 3px 1px rgba(0, 0, 0, 0.15);\n",
              "      filter: drop-shadow(0px 1px 2px rgba(0, 0, 0, 0.3));\n",
              "      fill: #FFFFFF;\n",
              "    }\n",
              "  </style>\n",
              "\n",
              "      <script>\n",
              "        const buttonEl =\n",
              "          document.querySelector('#df-0772f23d-8332-47ba-a52f-d42397e25966 button.colab-df-convert');\n",
              "        buttonEl.style.display =\n",
              "          google.colab.kernel.accessAllowed ? 'block' : 'none';\n",
              "\n",
              "        async function convertToInteractive(key) {\n",
              "          const element = document.querySelector('#df-0772f23d-8332-47ba-a52f-d42397e25966');\n",
              "          const dataTable =\n",
              "            await google.colab.kernel.invokeFunction('convertToInteractive',\n",
              "                                                     [key], {});\n",
              "          if (!dataTable) return;\n",
              "\n",
              "          const docLinkHtml = 'Like what you see? Visit the ' +\n",
              "            '<a target=\"_blank\" href=https://colab.research.google.com/notebooks/data_table.ipynb>data table notebook</a>'\n",
              "            + ' to learn more about interactive tables.';\n",
              "          element.innerHTML = '';\n",
              "          dataTable['output_type'] = 'display_data';\n",
              "          await google.colab.output.renderOutput(dataTable, element);\n",
              "          const docLink = document.createElement('div');\n",
              "          docLink.innerHTML = docLinkHtml;\n",
              "          element.appendChild(docLink);\n",
              "        }\n",
              "      </script>\n",
              "    </div>\n",
              "  </div>\n",
              "  "
            ]
          },
          "metadata": {},
          "execution_count": 123
        }
      ]
    },
    {
      "cell_type": "code",
      "source": [
        "house.head(10)"
      ],
      "metadata": {
        "colab": {
          "base_uri": "https://localhost:8080/",
          "height": 719
        },
        "id": "kv-KmTSpDnjt",
        "outputId": "08accd64-4eb9-4999-c30e-91421496fa67"
      },
      "execution_count": 124,
      "outputs": [
        {
          "output_type": "execute_result",
          "data": {
            "text/plain": [
              "         MLS  sold_price  zipcode   longitude   latitude  lot_acres     taxes  \\\n",
              "0   21530491   5300000.0    85637 -110.378200  31.356362    2154.00   5272.00   \n",
              "1   21529082   4200000.0    85646 -111.045371  31.594213    1707.00  10422.36   \n",
              "3   21919321   4500000.0    85646 -111.035925  31.645878     636.67   8418.58   \n",
              "4   21306357   3411450.0    85750 -110.813768  32.285162       3.21  15393.00   \n",
              "5   21528016   3250000.0    85718 -110.910593  32.339090       1.67  27802.84   \n",
              "6   21610478   2400000.0    85712 -110.883315  32.261069       2.10  19038.42   \n",
              "7   21211741   2500000.0    85750 -110.861002  32.331603       1.07  21646.00   \n",
              "8   21324646   3700000.0    85718 -110.912156  32.343601       6.73  25094.39   \n",
              "9   21812010   3250000.0    85750 -110.837950  32.327575       3.53  18936.11   \n",
              "10  21900396   2776518.0    85640 -111.045441  31.562121     147.18   7330.36   \n",
              "\n",
              "    year_built  bedrooms bathrooms sqrt_ft garage  \\\n",
              "0         1941        13        10   10500      0   \n",
              "1         1997         2         2    7300      0   \n",
              "3         1930         7         5    9019      4   \n",
              "4         1995         4         6    6396      3   \n",
              "5         1999         3         4    6842      3   \n",
              "6         2001         9         8   12025      4   \n",
              "7         2011         6         8    8921      4   \n",
              "8         2002         5         7    5238      3   \n",
              "9         2007         5         6    6480      3   \n",
              "10        1935         5         5    5067      5   \n",
              "\n",
              "                                     kitchen_features  fireplaces  \\\n",
              "0             Dishwasher, Freezer, Refrigerator, Oven         6.0   \n",
              "1                        Dishwasher, Garbage Disposal         5.0   \n",
              "3   Dishwasher, Double Sink, Pantry: Butler, Refri...         4.0   \n",
              "4   Dishwasher, Garbage Disposal, Refrigerator, Mi...         5.0   \n",
              "5   Dishwasher, Garbage Disposal, Refrigerator, Mi...         5.0   \n",
              "6                  Dishwasher, Garbage Disposal, Oven         6.0   \n",
              "7   Compactor, Dishwasher, Freezer, Garbage Dispos...         5.0   \n",
              "8   Compactor, Dishwasher, Freezer, Garbage Dispos...         1.0   \n",
              "9   Dishwasher, Double Sink, Electric Range, Freez...         2.0   \n",
              "10  Freezer, Refrigerator, Appliance Color: Stainl...         5.0   \n",
              "\n",
              "                        floor_covering     HOA  \n",
              "0                   Mexican Tile, Wood       0  \n",
              "1                 Natural Stone, Other       0  \n",
              "3         Ceramic Tile, Laminate, Wood  102.32  \n",
              "4                     Carpet, Concrete      55  \n",
              "5           Natural Stone, Wood, Other     422  \n",
              "6   Carpet, Natural Stone, Wood, Other       0  \n",
              "7          Carpet, Natural Stone, Wood     220  \n",
              "8   Carpet, Natural Stone, Wood, Other     421  \n",
              "9                     Carpet, Concrete  141.67  \n",
              "10       Concrete, Natural Stone, Wood  102.32  "
            ],
            "text/html": [
              "\n",
              "  <div id=\"df-4b6ec8df-8d32-4d12-b31a-181f2c85f9ec\">\n",
              "    <div class=\"colab-df-container\">\n",
              "      <div>\n",
              "<style scoped>\n",
              "    .dataframe tbody tr th:only-of-type {\n",
              "        vertical-align: middle;\n",
              "    }\n",
              "\n",
              "    .dataframe tbody tr th {\n",
              "        vertical-align: top;\n",
              "    }\n",
              "\n",
              "    .dataframe thead th {\n",
              "        text-align: right;\n",
              "    }\n",
              "</style>\n",
              "<table border=\"1\" class=\"dataframe\">\n",
              "  <thead>\n",
              "    <tr style=\"text-align: right;\">\n",
              "      <th></th>\n",
              "      <th>MLS</th>\n",
              "      <th>sold_price</th>\n",
              "      <th>zipcode</th>\n",
              "      <th>longitude</th>\n",
              "      <th>latitude</th>\n",
              "      <th>lot_acres</th>\n",
              "      <th>taxes</th>\n",
              "      <th>year_built</th>\n",
              "      <th>bedrooms</th>\n",
              "      <th>bathrooms</th>\n",
              "      <th>sqrt_ft</th>\n",
              "      <th>garage</th>\n",
              "      <th>kitchen_features</th>\n",
              "      <th>fireplaces</th>\n",
              "      <th>floor_covering</th>\n",
              "      <th>HOA</th>\n",
              "    </tr>\n",
              "  </thead>\n",
              "  <tbody>\n",
              "    <tr>\n",
              "      <th>0</th>\n",
              "      <td>21530491</td>\n",
              "      <td>5300000.0</td>\n",
              "      <td>85637</td>\n",
              "      <td>-110.378200</td>\n",
              "      <td>31.356362</td>\n",
              "      <td>2154.00</td>\n",
              "      <td>5272.00</td>\n",
              "      <td>1941</td>\n",
              "      <td>13</td>\n",
              "      <td>10</td>\n",
              "      <td>10500</td>\n",
              "      <td>0</td>\n",
              "      <td>Dishwasher, Freezer, Refrigerator, Oven</td>\n",
              "      <td>6.0</td>\n",
              "      <td>Mexican Tile, Wood</td>\n",
              "      <td>0</td>\n",
              "    </tr>\n",
              "    <tr>\n",
              "      <th>1</th>\n",
              "      <td>21529082</td>\n",
              "      <td>4200000.0</td>\n",
              "      <td>85646</td>\n",
              "      <td>-111.045371</td>\n",
              "      <td>31.594213</td>\n",
              "      <td>1707.00</td>\n",
              "      <td>10422.36</td>\n",
              "      <td>1997</td>\n",
              "      <td>2</td>\n",
              "      <td>2</td>\n",
              "      <td>7300</td>\n",
              "      <td>0</td>\n",
              "      <td>Dishwasher, Garbage Disposal</td>\n",
              "      <td>5.0</td>\n",
              "      <td>Natural Stone, Other</td>\n",
              "      <td>0</td>\n",
              "    </tr>\n",
              "    <tr>\n",
              "      <th>3</th>\n",
              "      <td>21919321</td>\n",
              "      <td>4500000.0</td>\n",
              "      <td>85646</td>\n",
              "      <td>-111.035925</td>\n",
              "      <td>31.645878</td>\n",
              "      <td>636.67</td>\n",
              "      <td>8418.58</td>\n",
              "      <td>1930</td>\n",
              "      <td>7</td>\n",
              "      <td>5</td>\n",
              "      <td>9019</td>\n",
              "      <td>4</td>\n",
              "      <td>Dishwasher, Double Sink, Pantry: Butler, Refri...</td>\n",
              "      <td>4.0</td>\n",
              "      <td>Ceramic Tile, Laminate, Wood</td>\n",
              "      <td>102.32</td>\n",
              "    </tr>\n",
              "    <tr>\n",
              "      <th>4</th>\n",
              "      <td>21306357</td>\n",
              "      <td>3411450.0</td>\n",
              "      <td>85750</td>\n",
              "      <td>-110.813768</td>\n",
              "      <td>32.285162</td>\n",
              "      <td>3.21</td>\n",
              "      <td>15393.00</td>\n",
              "      <td>1995</td>\n",
              "      <td>4</td>\n",
              "      <td>6</td>\n",
              "      <td>6396</td>\n",
              "      <td>3</td>\n",
              "      <td>Dishwasher, Garbage Disposal, Refrigerator, Mi...</td>\n",
              "      <td>5.0</td>\n",
              "      <td>Carpet, Concrete</td>\n",
              "      <td>55</td>\n",
              "    </tr>\n",
              "    <tr>\n",
              "      <th>5</th>\n",
              "      <td>21528016</td>\n",
              "      <td>3250000.0</td>\n",
              "      <td>85718</td>\n",
              "      <td>-110.910593</td>\n",
              "      <td>32.339090</td>\n",
              "      <td>1.67</td>\n",
              "      <td>27802.84</td>\n",
              "      <td>1999</td>\n",
              "      <td>3</td>\n",
              "      <td>4</td>\n",
              "      <td>6842</td>\n",
              "      <td>3</td>\n",
              "      <td>Dishwasher, Garbage Disposal, Refrigerator, Mi...</td>\n",
              "      <td>5.0</td>\n",
              "      <td>Natural Stone, Wood, Other</td>\n",
              "      <td>422</td>\n",
              "    </tr>\n",
              "    <tr>\n",
              "      <th>6</th>\n",
              "      <td>21610478</td>\n",
              "      <td>2400000.0</td>\n",
              "      <td>85712</td>\n",
              "      <td>-110.883315</td>\n",
              "      <td>32.261069</td>\n",
              "      <td>2.10</td>\n",
              "      <td>19038.42</td>\n",
              "      <td>2001</td>\n",
              "      <td>9</td>\n",
              "      <td>8</td>\n",
              "      <td>12025</td>\n",
              "      <td>4</td>\n",
              "      <td>Dishwasher, Garbage Disposal, Oven</td>\n",
              "      <td>6.0</td>\n",
              "      <td>Carpet, Natural Stone, Wood, Other</td>\n",
              "      <td>0</td>\n",
              "    </tr>\n",
              "    <tr>\n",
              "      <th>7</th>\n",
              "      <td>21211741</td>\n",
              "      <td>2500000.0</td>\n",
              "      <td>85750</td>\n",
              "      <td>-110.861002</td>\n",
              "      <td>32.331603</td>\n",
              "      <td>1.07</td>\n",
              "      <td>21646.00</td>\n",
              "      <td>2011</td>\n",
              "      <td>6</td>\n",
              "      <td>8</td>\n",
              "      <td>8921</td>\n",
              "      <td>4</td>\n",
              "      <td>Compactor, Dishwasher, Freezer, Garbage Dispos...</td>\n",
              "      <td>5.0</td>\n",
              "      <td>Carpet, Natural Stone, Wood</td>\n",
              "      <td>220</td>\n",
              "    </tr>\n",
              "    <tr>\n",
              "      <th>8</th>\n",
              "      <td>21324646</td>\n",
              "      <td>3700000.0</td>\n",
              "      <td>85718</td>\n",
              "      <td>-110.912156</td>\n",
              "      <td>32.343601</td>\n",
              "      <td>6.73</td>\n",
              "      <td>25094.39</td>\n",
              "      <td>2002</td>\n",
              "      <td>5</td>\n",
              "      <td>7</td>\n",
              "      <td>5238</td>\n",
              "      <td>3</td>\n",
              "      <td>Compactor, Dishwasher, Freezer, Garbage Dispos...</td>\n",
              "      <td>1.0</td>\n",
              "      <td>Carpet, Natural Stone, Wood, Other</td>\n",
              "      <td>421</td>\n",
              "    </tr>\n",
              "    <tr>\n",
              "      <th>9</th>\n",
              "      <td>21812010</td>\n",
              "      <td>3250000.0</td>\n",
              "      <td>85750</td>\n",
              "      <td>-110.837950</td>\n",
              "      <td>32.327575</td>\n",
              "      <td>3.53</td>\n",
              "      <td>18936.11</td>\n",
              "      <td>2007</td>\n",
              "      <td>5</td>\n",
              "      <td>6</td>\n",
              "      <td>6480</td>\n",
              "      <td>3</td>\n",
              "      <td>Dishwasher, Double Sink, Electric Range, Freez...</td>\n",
              "      <td>2.0</td>\n",
              "      <td>Carpet, Concrete</td>\n",
              "      <td>141.67</td>\n",
              "    </tr>\n",
              "    <tr>\n",
              "      <th>10</th>\n",
              "      <td>21900396</td>\n",
              "      <td>2776518.0</td>\n",
              "      <td>85640</td>\n",
              "      <td>-111.045441</td>\n",
              "      <td>31.562121</td>\n",
              "      <td>147.18</td>\n",
              "      <td>7330.36</td>\n",
              "      <td>1935</td>\n",
              "      <td>5</td>\n",
              "      <td>5</td>\n",
              "      <td>5067</td>\n",
              "      <td>5</td>\n",
              "      <td>Freezer, Refrigerator, Appliance Color: Stainl...</td>\n",
              "      <td>5.0</td>\n",
              "      <td>Concrete, Natural Stone, Wood</td>\n",
              "      <td>102.32</td>\n",
              "    </tr>\n",
              "  </tbody>\n",
              "</table>\n",
              "</div>\n",
              "      <button class=\"colab-df-convert\" onclick=\"convertToInteractive('df-4b6ec8df-8d32-4d12-b31a-181f2c85f9ec')\"\n",
              "              title=\"Convert this dataframe to an interactive table.\"\n",
              "              style=\"display:none;\">\n",
              "        \n",
              "  <svg xmlns=\"http://www.w3.org/2000/svg\" height=\"24px\"viewBox=\"0 0 24 24\"\n",
              "       width=\"24px\">\n",
              "    <path d=\"M0 0h24v24H0V0z\" fill=\"none\"/>\n",
              "    <path d=\"M18.56 5.44l.94 2.06.94-2.06 2.06-.94-2.06-.94-.94-2.06-.94 2.06-2.06.94zm-11 1L8.5 8.5l.94-2.06 2.06-.94-2.06-.94L8.5 2.5l-.94 2.06-2.06.94zm10 10l.94 2.06.94-2.06 2.06-.94-2.06-.94-.94-2.06-.94 2.06-2.06.94z\"/><path d=\"M17.41 7.96l-1.37-1.37c-.4-.4-.92-.59-1.43-.59-.52 0-1.04.2-1.43.59L10.3 9.45l-7.72 7.72c-.78.78-.78 2.05 0 2.83L4 21.41c.39.39.9.59 1.41.59.51 0 1.02-.2 1.41-.59l7.78-7.78 2.81-2.81c.8-.78.8-2.07 0-2.86zM5.41 20L4 18.59l7.72-7.72 1.47 1.35L5.41 20z\"/>\n",
              "  </svg>\n",
              "      </button>\n",
              "      \n",
              "  <style>\n",
              "    .colab-df-container {\n",
              "      display:flex;\n",
              "      flex-wrap:wrap;\n",
              "      gap: 12px;\n",
              "    }\n",
              "\n",
              "    .colab-df-convert {\n",
              "      background-color: #E8F0FE;\n",
              "      border: none;\n",
              "      border-radius: 50%;\n",
              "      cursor: pointer;\n",
              "      display: none;\n",
              "      fill: #1967D2;\n",
              "      height: 32px;\n",
              "      padding: 0 0 0 0;\n",
              "      width: 32px;\n",
              "    }\n",
              "\n",
              "    .colab-df-convert:hover {\n",
              "      background-color: #E2EBFA;\n",
              "      box-shadow: 0px 1px 2px rgba(60, 64, 67, 0.3), 0px 1px 3px 1px rgba(60, 64, 67, 0.15);\n",
              "      fill: #174EA6;\n",
              "    }\n",
              "\n",
              "    [theme=dark] .colab-df-convert {\n",
              "      background-color: #3B4455;\n",
              "      fill: #D2E3FC;\n",
              "    }\n",
              "\n",
              "    [theme=dark] .colab-df-convert:hover {\n",
              "      background-color: #434B5C;\n",
              "      box-shadow: 0px 1px 3px 1px rgba(0, 0, 0, 0.15);\n",
              "      filter: drop-shadow(0px 1px 2px rgba(0, 0, 0, 0.3));\n",
              "      fill: #FFFFFF;\n",
              "    }\n",
              "  </style>\n",
              "\n",
              "      <script>\n",
              "        const buttonEl =\n",
              "          document.querySelector('#df-4b6ec8df-8d32-4d12-b31a-181f2c85f9ec button.colab-df-convert');\n",
              "        buttonEl.style.display =\n",
              "          google.colab.kernel.accessAllowed ? 'block' : 'none';\n",
              "\n",
              "        async function convertToInteractive(key) {\n",
              "          const element = document.querySelector('#df-4b6ec8df-8d32-4d12-b31a-181f2c85f9ec');\n",
              "          const dataTable =\n",
              "            await google.colab.kernel.invokeFunction('convertToInteractive',\n",
              "                                                     [key], {});\n",
              "          if (!dataTable) return;\n",
              "\n",
              "          const docLinkHtml = 'Like what you see? Visit the ' +\n",
              "            '<a target=\"_blank\" href=https://colab.research.google.com/notebooks/data_table.ipynb>data table notebook</a>'\n",
              "            + ' to learn more about interactive tables.';\n",
              "          element.innerHTML = '';\n",
              "          dataTable['output_type'] = 'display_data';\n",
              "          await google.colab.output.renderOutput(dataTable, element);\n",
              "          const docLink = document.createElement('div');\n",
              "          docLink.innerHTML = docLinkHtml;\n",
              "          element.appendChild(docLink);\n",
              "        }\n",
              "      </script>\n",
              "    </div>\n",
              "  </div>\n",
              "  "
            ]
          },
          "metadata": {},
          "execution_count": 124
        }
      ]
    },
    {
      "cell_type": "code",
      "source": [
        "house.dtypes"
      ],
      "metadata": {
        "colab": {
          "base_uri": "https://localhost:8080/"
        },
        "id": "O3ALLGiNFIQZ",
        "outputId": "1bc421dd-18e8-4d07-e548-be28901fdd0e"
      },
      "execution_count": 125,
      "outputs": [
        {
          "output_type": "execute_result",
          "data": {
            "text/plain": [
              "MLS                   int64\n",
              "sold_price          float64\n",
              "zipcode               int64\n",
              "longitude           float64\n",
              "latitude            float64\n",
              "lot_acres           float64\n",
              "taxes               float64\n",
              "year_built            int64\n",
              "bedrooms              int64\n",
              "bathrooms            object\n",
              "sqrt_ft              object\n",
              "garage               object\n",
              "kitchen_features     object\n",
              "fireplaces          float64\n",
              "floor_covering       object\n",
              "HOA                  object\n",
              "dtype: object"
            ]
          },
          "metadata": {},
          "execution_count": 125
        }
      ]
    },
    {
      "cell_type": "code",
      "source": [
        "house['bathrooms'].unique()"
      ],
      "metadata": {
        "colab": {
          "base_uri": "https://localhost:8080/"
        },
        "id": "AxMP_jjqTDf_",
        "outputId": "db19f48f-548c-4417-96d6-aa9c1303ada9"
      },
      "execution_count": 126,
      "outputs": [
        {
          "output_type": "execute_result",
          "data": {
            "text/plain": [
              "array(['10', '2', '5', '6', '4', '8', '7', '3', '4.5', '1', '9', '11',\n",
              "       '18', '3.5', '35', '2.5', '36'], dtype=object)"
            ]
          },
          "metadata": {},
          "execution_count": 126
        }
      ]
    },
    {
      "cell_type": "code",
      "source": [
        "house['bathrooms'] = house['bathrooms'].astype(float)\n",
        "house['garage'] = house['garage'].astype(float)\n",
        "house['HOA'] = house['HOA'].astype(float)\n",
        "house['sold_price'] = house['sold_price'].astype(int)\n",
        "house['sqrt_ft'] = house['sqrt_ft'].astype(float)\n",
        "house['fireplaces'] = house['fireplaces'].astype(int)\n",
        "house['sqrt_ft'] = house['sqrt_ft'].astype(int)\n",
        "\n",
        "house['HOA'].loc[house.HOA > 0] = 1\n",
        "house['HOA'] = house['HOA'].astype(int)"
      ],
      "metadata": {
        "id": "TbHeBy2_TSF2",
        "colab": {
          "base_uri": "https://localhost:8080/"
        },
        "outputId": "d3d37839-2604-416d-fce0-07474ad19e20"
      },
      "execution_count": 127,
      "outputs": [
        {
          "output_type": "stream",
          "name": "stderr",
          "text": [
            "<ipython-input-127-9ca8996f8138>:9: SettingWithCopyWarning: \n",
            "A value is trying to be set on a copy of a slice from a DataFrame\n",
            "\n",
            "See the caveats in the documentation: https://pandas.pydata.org/pandas-docs/stable/user_guide/indexing.html#returning-a-view-versus-a-copy\n",
            "  house['HOA'].loc[house.HOA > 0] = 1\n"
          ]
        }
      ]
    },
    {
      "cell_type": "code",
      "source": [
        "print(house.shape)\n",
        "house = house.loc[house['bathrooms'] <= 35]\n",
        "house = house.loc[house['bedrooms'] <= 35]\n",
        "print(house.shape)"
      ],
      "metadata": {
        "colab": {
          "base_uri": "https://localhost:8080/"
        },
        "id": "ADNCXlV4gCqg",
        "outputId": "c77d2ba7-27f8-4f4a-ffc5-a1893158f096"
      },
      "execution_count": 128,
      "outputs": [
        {
          "output_type": "stream",
          "name": "stdout",
          "text": [
            "(4868, 16)\n",
            "(4865, 16)\n"
          ]
        }
      ]
    },
    {
      "cell_type": "code",
      "source": [],
      "metadata": {
        "id": "jspJZwv3UB3o"
      },
      "execution_count": 128,
      "outputs": []
    },
    {
      "cell_type": "markdown",
      "source": [
        "# Exploratory Data Analysis"
      ],
      "metadata": {
        "id": "Lw5TZ5EtX_jh"
      }
    },
    {
      "cell_type": "code",
      "source": [
        "house.describe().T.round(2)"
      ],
      "metadata": {
        "colab": {
          "base_uri": "https://localhost:8080/",
          "height": 0
        },
        "id": "UdPNIViLj4kJ",
        "outputId": "fbdeceab-575f-48de-dc82-134b4bd309fd"
      },
      "execution_count": 129,
      "outputs": [
        {
          "output_type": "execute_result",
          "data": {
            "text/plain": [
              "             count         mean         std         min          25%  \\\n",
              "MLS         4865.0  21495289.06  1318347.54  4110917.00  21411531.00   \n",
              "sold_price  4865.0    773817.67   310465.41   300000.00    585000.00   \n",
              "zipcode     4865.0     85724.37       36.70    85118.00     85718.00   \n",
              "longitude   4865.0      -110.91        0.12     -112.52      -110.98   \n",
              "latitude    4865.0        32.32        0.17       31.36        32.28   \n",
              "lot_acres   4865.0         4.19       46.11        0.02         0.59   \n",
              "taxes       4865.0      9474.69   175319.37        0.00      4822.77   \n",
              "year_built  4865.0      1994.31       17.62     1893.00      1987.00   \n",
              "bedrooms    4865.0         3.92        0.93        1.00         3.00   \n",
              "bathrooms   4865.0         3.80        1.04        1.00         3.00   \n",
              "sqrt_ft     4865.0      3703.48     1033.63     1100.00      3049.00   \n",
              "garage      4865.0         2.82        1.20        0.00         2.00   \n",
              "fireplaces  4865.0         1.88        1.13        0.00         1.00   \n",
              "HOA         4865.0         0.84        0.37        0.00         1.00   \n",
              "\n",
              "                    50%          75%          max  \n",
              "MLS         21618258.00  21805673.00  21928565.00  \n",
              "sold_price    677900.00    837500.00   5300000.00  \n",
              "zipcode        85737.00     85750.00     86323.00  \n",
              "longitude       -110.92      -110.86      -109.45  \n",
              "latitude          32.32        32.40        34.93  \n",
              "lot_acres          0.99         1.73      2154.00  \n",
              "taxes           6251.06      8091.68  12215075.00  \n",
              "year_built      1999.00      2006.00      2019.00  \n",
              "bedrooms           4.00         4.00        19.00  \n",
              "bathrooms          4.00         4.00        18.00  \n",
              "sqrt_ft         3514.00      4125.00     12808.00  \n",
              "garage             3.00         3.00        30.00  \n",
              "fireplaces         2.00         3.00         9.00  \n",
              "HOA                1.00         1.00         1.00  "
            ],
            "text/html": [
              "\n",
              "  <div id=\"df-21c85928-a232-4da5-aca6-decb9f8fda78\">\n",
              "    <div class=\"colab-df-container\">\n",
              "      <div>\n",
              "<style scoped>\n",
              "    .dataframe tbody tr th:only-of-type {\n",
              "        vertical-align: middle;\n",
              "    }\n",
              "\n",
              "    .dataframe tbody tr th {\n",
              "        vertical-align: top;\n",
              "    }\n",
              "\n",
              "    .dataframe thead th {\n",
              "        text-align: right;\n",
              "    }\n",
              "</style>\n",
              "<table border=\"1\" class=\"dataframe\">\n",
              "  <thead>\n",
              "    <tr style=\"text-align: right;\">\n",
              "      <th></th>\n",
              "      <th>count</th>\n",
              "      <th>mean</th>\n",
              "      <th>std</th>\n",
              "      <th>min</th>\n",
              "      <th>25%</th>\n",
              "      <th>50%</th>\n",
              "      <th>75%</th>\n",
              "      <th>max</th>\n",
              "    </tr>\n",
              "  </thead>\n",
              "  <tbody>\n",
              "    <tr>\n",
              "      <th>MLS</th>\n",
              "      <td>4865.0</td>\n",
              "      <td>21495289.06</td>\n",
              "      <td>1318347.54</td>\n",
              "      <td>4110917.00</td>\n",
              "      <td>21411531.00</td>\n",
              "      <td>21618258.00</td>\n",
              "      <td>21805673.00</td>\n",
              "      <td>21928565.00</td>\n",
              "    </tr>\n",
              "    <tr>\n",
              "      <th>sold_price</th>\n",
              "      <td>4865.0</td>\n",
              "      <td>773817.67</td>\n",
              "      <td>310465.41</td>\n",
              "      <td>300000.00</td>\n",
              "      <td>585000.00</td>\n",
              "      <td>677900.00</td>\n",
              "      <td>837500.00</td>\n",
              "      <td>5300000.00</td>\n",
              "    </tr>\n",
              "    <tr>\n",
              "      <th>zipcode</th>\n",
              "      <td>4865.0</td>\n",
              "      <td>85724.37</td>\n",
              "      <td>36.70</td>\n",
              "      <td>85118.00</td>\n",
              "      <td>85718.00</td>\n",
              "      <td>85737.00</td>\n",
              "      <td>85750.00</td>\n",
              "      <td>86323.00</td>\n",
              "    </tr>\n",
              "    <tr>\n",
              "      <th>longitude</th>\n",
              "      <td>4865.0</td>\n",
              "      <td>-110.91</td>\n",
              "      <td>0.12</td>\n",
              "      <td>-112.52</td>\n",
              "      <td>-110.98</td>\n",
              "      <td>-110.92</td>\n",
              "      <td>-110.86</td>\n",
              "      <td>-109.45</td>\n",
              "    </tr>\n",
              "    <tr>\n",
              "      <th>latitude</th>\n",
              "      <td>4865.0</td>\n",
              "      <td>32.32</td>\n",
              "      <td>0.17</td>\n",
              "      <td>31.36</td>\n",
              "      <td>32.28</td>\n",
              "      <td>32.32</td>\n",
              "      <td>32.40</td>\n",
              "      <td>34.93</td>\n",
              "    </tr>\n",
              "    <tr>\n",
              "      <th>lot_acres</th>\n",
              "      <td>4865.0</td>\n",
              "      <td>4.19</td>\n",
              "      <td>46.11</td>\n",
              "      <td>0.02</td>\n",
              "      <td>0.59</td>\n",
              "      <td>0.99</td>\n",
              "      <td>1.73</td>\n",
              "      <td>2154.00</td>\n",
              "    </tr>\n",
              "    <tr>\n",
              "      <th>taxes</th>\n",
              "      <td>4865.0</td>\n",
              "      <td>9474.69</td>\n",
              "      <td>175319.37</td>\n",
              "      <td>0.00</td>\n",
              "      <td>4822.77</td>\n",
              "      <td>6251.06</td>\n",
              "      <td>8091.68</td>\n",
              "      <td>12215075.00</td>\n",
              "    </tr>\n",
              "    <tr>\n",
              "      <th>year_built</th>\n",
              "      <td>4865.0</td>\n",
              "      <td>1994.31</td>\n",
              "      <td>17.62</td>\n",
              "      <td>1893.00</td>\n",
              "      <td>1987.00</td>\n",
              "      <td>1999.00</td>\n",
              "      <td>2006.00</td>\n",
              "      <td>2019.00</td>\n",
              "    </tr>\n",
              "    <tr>\n",
              "      <th>bedrooms</th>\n",
              "      <td>4865.0</td>\n",
              "      <td>3.92</td>\n",
              "      <td>0.93</td>\n",
              "      <td>1.00</td>\n",
              "      <td>3.00</td>\n",
              "      <td>4.00</td>\n",
              "      <td>4.00</td>\n",
              "      <td>19.00</td>\n",
              "    </tr>\n",
              "    <tr>\n",
              "      <th>bathrooms</th>\n",
              "      <td>4865.0</td>\n",
              "      <td>3.80</td>\n",
              "      <td>1.04</td>\n",
              "      <td>1.00</td>\n",
              "      <td>3.00</td>\n",
              "      <td>4.00</td>\n",
              "      <td>4.00</td>\n",
              "      <td>18.00</td>\n",
              "    </tr>\n",
              "    <tr>\n",
              "      <th>sqrt_ft</th>\n",
              "      <td>4865.0</td>\n",
              "      <td>3703.48</td>\n",
              "      <td>1033.63</td>\n",
              "      <td>1100.00</td>\n",
              "      <td>3049.00</td>\n",
              "      <td>3514.00</td>\n",
              "      <td>4125.00</td>\n",
              "      <td>12808.00</td>\n",
              "    </tr>\n",
              "    <tr>\n",
              "      <th>garage</th>\n",
              "      <td>4865.0</td>\n",
              "      <td>2.82</td>\n",
              "      <td>1.20</td>\n",
              "      <td>0.00</td>\n",
              "      <td>2.00</td>\n",
              "      <td>3.00</td>\n",
              "      <td>3.00</td>\n",
              "      <td>30.00</td>\n",
              "    </tr>\n",
              "    <tr>\n",
              "      <th>fireplaces</th>\n",
              "      <td>4865.0</td>\n",
              "      <td>1.88</td>\n",
              "      <td>1.13</td>\n",
              "      <td>0.00</td>\n",
              "      <td>1.00</td>\n",
              "      <td>2.00</td>\n",
              "      <td>3.00</td>\n",
              "      <td>9.00</td>\n",
              "    </tr>\n",
              "    <tr>\n",
              "      <th>HOA</th>\n",
              "      <td>4865.0</td>\n",
              "      <td>0.84</td>\n",
              "      <td>0.37</td>\n",
              "      <td>0.00</td>\n",
              "      <td>1.00</td>\n",
              "      <td>1.00</td>\n",
              "      <td>1.00</td>\n",
              "      <td>1.00</td>\n",
              "    </tr>\n",
              "  </tbody>\n",
              "</table>\n",
              "</div>\n",
              "      <button class=\"colab-df-convert\" onclick=\"convertToInteractive('df-21c85928-a232-4da5-aca6-decb9f8fda78')\"\n",
              "              title=\"Convert this dataframe to an interactive table.\"\n",
              "              style=\"display:none;\">\n",
              "        \n",
              "  <svg xmlns=\"http://www.w3.org/2000/svg\" height=\"24px\"viewBox=\"0 0 24 24\"\n",
              "       width=\"24px\">\n",
              "    <path d=\"M0 0h24v24H0V0z\" fill=\"none\"/>\n",
              "    <path d=\"M18.56 5.44l.94 2.06.94-2.06 2.06-.94-2.06-.94-.94-2.06-.94 2.06-2.06.94zm-11 1L8.5 8.5l.94-2.06 2.06-.94-2.06-.94L8.5 2.5l-.94 2.06-2.06.94zm10 10l.94 2.06.94-2.06 2.06-.94-2.06-.94-.94-2.06-.94 2.06-2.06.94z\"/><path d=\"M17.41 7.96l-1.37-1.37c-.4-.4-.92-.59-1.43-.59-.52 0-1.04.2-1.43.59L10.3 9.45l-7.72 7.72c-.78.78-.78 2.05 0 2.83L4 21.41c.39.39.9.59 1.41.59.51 0 1.02-.2 1.41-.59l7.78-7.78 2.81-2.81c.8-.78.8-2.07 0-2.86zM5.41 20L4 18.59l7.72-7.72 1.47 1.35L5.41 20z\"/>\n",
              "  </svg>\n",
              "      </button>\n",
              "      \n",
              "  <style>\n",
              "    .colab-df-container {\n",
              "      display:flex;\n",
              "      flex-wrap:wrap;\n",
              "      gap: 12px;\n",
              "    }\n",
              "\n",
              "    .colab-df-convert {\n",
              "      background-color: #E8F0FE;\n",
              "      border: none;\n",
              "      border-radius: 50%;\n",
              "      cursor: pointer;\n",
              "      display: none;\n",
              "      fill: #1967D2;\n",
              "      height: 32px;\n",
              "      padding: 0 0 0 0;\n",
              "      width: 32px;\n",
              "    }\n",
              "\n",
              "    .colab-df-convert:hover {\n",
              "      background-color: #E2EBFA;\n",
              "      box-shadow: 0px 1px 2px rgba(60, 64, 67, 0.3), 0px 1px 3px 1px rgba(60, 64, 67, 0.15);\n",
              "      fill: #174EA6;\n",
              "    }\n",
              "\n",
              "    [theme=dark] .colab-df-convert {\n",
              "      background-color: #3B4455;\n",
              "      fill: #D2E3FC;\n",
              "    }\n",
              "\n",
              "    [theme=dark] .colab-df-convert:hover {\n",
              "      background-color: #434B5C;\n",
              "      box-shadow: 0px 1px 3px 1px rgba(0, 0, 0, 0.15);\n",
              "      filter: drop-shadow(0px 1px 2px rgba(0, 0, 0, 0.3));\n",
              "      fill: #FFFFFF;\n",
              "    }\n",
              "  </style>\n",
              "\n",
              "      <script>\n",
              "        const buttonEl =\n",
              "          document.querySelector('#df-21c85928-a232-4da5-aca6-decb9f8fda78 button.colab-df-convert');\n",
              "        buttonEl.style.display =\n",
              "          google.colab.kernel.accessAllowed ? 'block' : 'none';\n",
              "\n",
              "        async function convertToInteractive(key) {\n",
              "          const element = document.querySelector('#df-21c85928-a232-4da5-aca6-decb9f8fda78');\n",
              "          const dataTable =\n",
              "            await google.colab.kernel.invokeFunction('convertToInteractive',\n",
              "                                                     [key], {});\n",
              "          if (!dataTable) return;\n",
              "\n",
              "          const docLinkHtml = 'Like what you see? Visit the ' +\n",
              "            '<a target=\"_blank\" href=https://colab.research.google.com/notebooks/data_table.ipynb>data table notebook</a>'\n",
              "            + ' to learn more about interactive tables.';\n",
              "          element.innerHTML = '';\n",
              "          dataTable['output_type'] = 'display_data';\n",
              "          await google.colab.output.renderOutput(dataTable, element);\n",
              "          const docLink = document.createElement('div');\n",
              "          docLink.innerHTML = docLinkHtml;\n",
              "          element.appendChild(docLink);\n",
              "        }\n",
              "      </script>\n",
              "    </div>\n",
              "  </div>\n",
              "  "
            ]
          },
          "metadata": {},
          "execution_count": 129
        }
      ]
    },
    {
      "cell_type": "code",
      "source": [
        "corr = house.corr()\n",
        "\n",
        "# Generate a mask for the upper triangle\n",
        "mask = np.triu(np.ones_like(corr, dtype=bool))\n",
        "\n",
        "# Set up the matplotlib figure\n",
        "f, ax = plt.subplots(figsize=(11, 9))\n",
        "\n",
        "# Generate a custom diverging colormap\n",
        "cmap = sns.diverging_palette(230, 20, as_cmap=True)\n",
        "\n",
        "# Draw the heatmap with the mask and correct aspect ratio\n",
        "sns.heatmap(corr, mask=mask, cmap=cmap, vmax=1, center=0,\n",
        "            square=True, linewidths=.5, cbar_kws={\"shrink\": .5})"
      ],
      "metadata": {
        "colab": {
          "base_uri": "https://localhost:8080/",
          "height": 0
        },
        "id": "TLVnc25PYDOh",
        "outputId": "ebb3d4a3-1f25-4aba-f176-fe6d8a1990a0"
      },
      "execution_count": 130,
      "outputs": [
        {
          "output_type": "execute_result",
          "data": {
            "text/plain": [
              "<Axes: >"
            ]
          },
          "metadata": {},
          "execution_count": 130
        },
        {
          "output_type": "display_data",
          "data": {
            "text/plain": [
              "<Figure size 792x648 with 2 Axes>"
            ],
            "image/png": "[encoded data removed]"
          },
          "metadata": {
            "needs_background": "light"
          }
        }
      ]
    },
    {
      "cell_type": "code",
      "source": [
        "#sns.pairplot(house)"
      ],
      "metadata": {
        "id": "3yCUJc0dZg1A"
      },
      "execution_count": 131,
      "outputs": []
    },
    {
      "cell_type": "code",
      "source": [
        "# plt.figure(figsize=(10,6))\n",
        "# plt.scatter(house['sold_price'], house['lot_acres'])\n",
        "# #add axis labels\n",
        "# plt.xlabel('Sold price')\n",
        "# plt.ylabel('Lot Acres')"
      ],
      "metadata": {
        "id": "nKvjxzEhcqp8"
      },
      "execution_count": 132,
      "outputs": []
    },
    {
      "cell_type": "code",
      "source": [
        "# fig, ax = plt.subplots(figsize=(10, 8))\n",
        "# sns.lineplot(data=house, x=\"sold_price\", y=\"bathrooms\", ax=ax)"
      ],
      "metadata": {
        "id": "x2zmneGWkVVL"
      },
      "execution_count": 133,
      "outputs": []
    },
    {
      "cell_type": "code",
      "source": [
        "# fig, ax = plt.subplots(figsize=(10, 8))\n",
        "# sns.lineplot(data=house, x=\"sold_price\", y=\"fireplaces\", ax=ax)"
      ],
      "metadata": {
        "id": "JWf2Edb8mTix"
      },
      "execution_count": 134,
      "outputs": []
    },
    {
      "cell_type": "code",
      "source": [
        "sns.displot(house, x=\"bathrooms\", binwidth=1)"
      ],
      "metadata": {
        "colab": {
          "base_uri": "https://localhost:8080/",
          "height": 0
        },
        "id": "wmjWAQ1ZcK7l",
        "outputId": "88958f49-53da-4c9b-e2fc-6f8a27ee5f73"
      },
      "execution_count": 135,
      "outputs": [
        {
          "output_type": "execute_result",
          "data": {
            "text/plain": [
              "<seaborn.axisgrid.FacetGrid at 0x7fd429137190>"
            ]
          },
          "metadata": {},
          "execution_count": 135
        },
        {
          "output_type": "display_data",
          "data": {
            "text/plain": [
              "<Figure size 360x360 with 1 Axes>"
            ],
            "image/png": "[encoded data removed]"
          },
          "metadata": {
            "needs_background": "light"
          }
        }
      ]
    },
    {
      "cell_type": "code",
      "source": [
        "sns.displot(house, x=\"bedrooms\", binwidth=1)"
      ],
      "metadata": {
        "colab": {
          "base_uri": "https://localhost:8080/",
          "height": 0
        },
        "id": "mYjCn42xggYH",
        "outputId": "d9370230-f3fa-4394-af81-2b23c915841f"
      },
      "execution_count": 136,
      "outputs": [
        {
          "output_type": "execute_result",
          "data": {
            "text/plain": [
              "<seaborn.axisgrid.FacetGrid at 0x7fd427fc02e0>"
            ]
          },
          "metadata": {},
          "execution_count": 136
        },
        {
          "output_type": "display_data",
          "data": {
            "text/plain": [
              "<Figure size 360x360 with 1 Axes>"
            ],
            "image/png": "[encoded data removed]"
          },
          "metadata": {
            "needs_background": "light"
          }
        }
      ]
    },
    {
      "cell_type": "code",
      "source": [
        "sns.histplot(data=house, x=\"year_built\")"
      ],
      "metadata": {
        "colab": {
          "base_uri": "https://localhost:8080/",
          "height": 0
        },
        "id": "1hat1_JfgmeT",
        "outputId": "223e048d-824c-45cf-d165-a4d5883f2a8d"
      },
      "execution_count": 137,
      "outputs": [
        {
          "output_type": "execute_result",
          "data": {
            "text/plain": [
              "<Axes: xlabel='year_built', ylabel='Count'>"
            ]
          },
          "metadata": {},
          "execution_count": 137
        },
        {
          "output_type": "display_data",
          "data": {
            "text/plain": [
              "<Figure size 432x288 with 1 Axes>"
            ],
            "image/png": "[encoded data removed]"
          },
          "metadata": {
            "needs_background": "light"
          }
        }
      ]
    },
    {
      "cell_type": "code",
      "source": [
        "house['year_built'].value_counts().sort_index()[-20:]"
      ],
      "metadata": {
        "colab": {
          "base_uri": "https://localhost:8080/"
        },
        "id": "Yjhs3_pfoZC_",
        "outputId": "e34f2c21-6d5c-455c-e95b-82c5f205b892"
      },
      "execution_count": 138,
      "outputs": [
        {
          "output_type": "execute_result",
          "data": {
            "text/plain": [
              "2000    147\n",
              "2001    177\n",
              "2002    230\n",
              "2003    175\n",
              "2004    196\n",
              "2005    225\n",
              "2006    240\n",
              "2007    223\n",
              "2008    132\n",
              "2009     67\n",
              "2010     34\n",
              "2011     33\n",
              "2012     44\n",
              "2013     67\n",
              "2014     82\n",
              "2015     56\n",
              "2016     63\n",
              "2017     80\n",
              "2018     78\n",
              "2019     32\n",
              "Name: year_built, dtype: int64"
            ]
          },
          "metadata": {},
          "execution_count": 138
        }
      ]
    },
    {
      "cell_type": "code",
      "source": [
        "house.head(5)"
      ],
      "metadata": {
        "colab": {
          "base_uri": "https://localhost:8080/",
          "height": 0
        },
        "id": "hOTGzEuXLcvW",
        "outputId": "846e3944-d1bf-4369-a11c-f8e3aa89536b"
      },
      "execution_count": 139,
      "outputs": [
        {
          "output_type": "execute_result",
          "data": {
            "text/plain": [
              "        MLS  sold_price  zipcode   longitude   latitude  lot_acres     taxes  \\\n",
              "0  21530491     5300000    85637 -110.378200  31.356362    2154.00   5272.00   \n",
              "1  21529082     4200000    85646 -111.045371  31.594213    1707.00  10422.36   \n",
              "3  21919321     4500000    85646 -111.035925  31.645878     636.67   8418.58   \n",
              "4  21306357     3411450    85750 -110.813768  32.285162       3.21  15393.00   \n",
              "5  21528016     3250000    85718 -110.910593  32.339090       1.67  27802.84   \n",
              "\n",
              "   year_built  bedrooms  bathrooms  sqrt_ft  garage  \\\n",
              "0        1941        13       10.0    10500     0.0   \n",
              "1        1997         2        2.0     7300     0.0   \n",
              "3        1930         7        5.0     9019     4.0   \n",
              "4        1995         4        6.0     6396     3.0   \n",
              "5        1999         3        4.0     6842     3.0   \n",
              "\n",
              "                                    kitchen_features  fireplaces  \\\n",
              "0            Dishwasher, Freezer, Refrigerator, Oven           6   \n",
              "1                       Dishwasher, Garbage Disposal           5   \n",
              "3  Dishwasher, Double Sink, Pantry: Butler, Refri...           4   \n",
              "4  Dishwasher, Garbage Disposal, Refrigerator, Mi...           5   \n",
              "5  Dishwasher, Garbage Disposal, Refrigerator, Mi...           5   \n",
              "\n",
              "                 floor_covering  HOA  \n",
              "0            Mexican Tile, Wood    0  \n",
              "1          Natural Stone, Other    0  \n",
              "3  Ceramic Tile, Laminate, Wood    1  \n",
              "4              Carpet, Concrete    1  \n",
              "5    Natural Stone, Wood, Other    1  "
            ],
            "text/html": [
              "\n",
              "  <div id=\"df-ebf02063-2dc4-49a2-b14e-507f46c55483\">\n",
              "    <div class=\"colab-df-container\">\n",
              "      <div>\n",
              "<style scoped>\n",
              "    .dataframe tbody tr th:only-of-type {\n",
              "        vertical-align: middle;\n",
              "    }\n",
              "\n",
              "    .dataframe tbody tr th {\n",
              "        vertical-align: top;\n",
              "    }\n",
              "\n",
              "    .dataframe thead th {\n",
              "        text-align: right;\n",
              "    }\n",
              "</style>\n",
              "<table border=\"1\" class=\"dataframe\">\n",
              "  <thead>\n",
              "    <tr style=\"text-align: right;\">\n",
              "      <th></th>\n",
              "      <th>MLS</th>\n",
              "      <th>sold_price</th>\n",
              "      <th>zipcode</th>\n",
              "      <th>longitude</th>\n",
              "      <th>latitude</th>\n",
              "      <th>lot_acres</th>\n",
              "      <th>taxes</th>\n",
              "      <th>year_built</th>\n",
              "      <th>bedrooms</th>\n",
              "      <th>bathrooms</th>\n",
              "      <th>sqrt_ft</th>\n",
              "      <th>garage</th>\n",
              "      <th>kitchen_features</th>\n",
              "      <th>fireplaces</th>\n",
              "      <th>floor_covering</th>\n",
              "      <th>HOA</th>\n",
              "    </tr>\n",
              "  </thead>\n",
              "  <tbody>\n",
              "    <tr>\n",
              "      <th>0</th>\n",
              "      <td>21530491</td>\n",
              "      <td>5300000</td>\n",
              "      <td>85637</td>\n",
              "      <td>-110.378200</td>\n",
              "      <td>31.356362</td>\n",
              "      <td>2154.00</td>\n",
              "      <td>5272.00</td>\n",
              "      <td>1941</td>\n",
              "      <td>13</td>\n",
              "      <td>10.0</td>\n",
              "      <td>10500</td>\n",
              "      <td>0.0</td>\n",
              "      <td>Dishwasher, Freezer, Refrigerator, Oven</td>\n",
              "      <td>6</td>\n",
              "      <td>Mexican Tile, Wood</td>\n",
              "      <td>0</td>\n",
              "    </tr>\n",
              "    <tr>\n",
              "      <th>1</th>\n",
              "      <td>21529082</td>\n",
              "      <td>4200000</td>\n",
              "      <td>85646</td>\n",
              "      <td>-111.045371</td>\n",
              "      <td>31.594213</td>\n",
              "      <td>1707.00</td>\n",
              "      <td>10422.36</td>\n",
              "      <td>1997</td>\n",
              "      <td>2</td>\n",
              "      <td>2.0</td>\n",
              "      <td>7300</td>\n",
              "      <td>0.0</td>\n",
              "      <td>Dishwasher, Garbage Disposal</td>\n",
              "      <td>5</td>\n",
              "      <td>Natural Stone, Other</td>\n",
              "      <td>0</td>\n",
              "    </tr>\n",
              "    <tr>\n",
              "      <th>3</th>\n",
              "      <td>21919321</td>\n",
              "      <td>4500000</td>\n",
              "      <td>85646</td>\n",
              "      <td>-111.035925</td>\n",
              "      <td>31.645878</td>\n",
              "      <td>636.67</td>\n",
              "      <td>8418.58</td>\n",
              "      <td>1930</td>\n",
              "      <td>7</td>\n",
              "      <td>5.0</td>\n",
              "      <td>9019</td>\n",
              "      <td>4.0</td>\n",
              "      <td>Dishwasher, Double Sink, Pantry: Butler, Refri...</td>\n",
              "      <td>4</td>\n",
              "      <td>Ceramic Tile, Laminate, Wood</td>\n",
              "      <td>1</td>\n",
              "    </tr>\n",
              "    <tr>\n",
              "      <th>4</th>\n",
              "      <td>21306357</td>\n",
              "      <td>3411450</td>\n",
              "      <td>85750</td>\n",
              "      <td>-110.813768</td>\n",
              "      <td>32.285162</td>\n",
              "      <td>3.21</td>\n",
              "      <td>15393.00</td>\n",
              "      <td>1995</td>\n",
              "      <td>4</td>\n",
              "      <td>6.0</td>\n",
              "      <td>6396</td>\n",
              "      <td>3.0</td>\n",
              "      <td>Dishwasher, Garbage Disposal, Refrigerator, Mi...</td>\n",
              "      <td>5</td>\n",
              "      <td>Carpet, Concrete</td>\n",
              "      <td>1</td>\n",
              "    </tr>\n",
              "    <tr>\n",
              "      <th>5</th>\n",
              "      <td>21528016</td>\n",
              "      <td>3250000</td>\n",
              "      <td>85718</td>\n",
              "      <td>-110.910593</td>\n",
              "      <td>32.339090</td>\n",
              "      <td>1.67</td>\n",
              "      <td>27802.84</td>\n",
              "      <td>1999</td>\n",
              "      <td>3</td>\n",
              "      <td>4.0</td>\n",
              "      <td>6842</td>\n",
              "      <td>3.0</td>\n",
              "      <td>Dishwasher, Garbage Disposal, Refrigerator, Mi...</td>\n",
              "      <td>5</td>\n",
              "      <td>Natural Stone, Wood, Other</td>\n",
              "      <td>1</td>\n",
              "    </tr>\n",
              "  </tbody>\n",
              "</table>\n",
              "</div>\n",
              "      <button class=\"colab-df-convert\" onclick=\"convertToInteractive('df-ebf02063-2dc4-49a2-b14e-507f46c55483')\"\n",
              "              title=\"Convert this dataframe to an interactive table.\"\n",
              "              style=\"display:none;\">\n",
              "        \n",
              "  <svg xmlns=\"http://www.w3.org/2000/svg\" height=\"24px\"viewBox=\"0 0 24 24\"\n",
              "       width=\"24px\">\n",
              "    <path d=\"M0 0h24v24H0V0z\" fill=\"none\"/>\n",
              "    <path d=\"M18.56 5.44l.94 2.06.94-2.06 2.06-.94-2.06-.94-.94-2.06-.94 2.06-2.06.94zm-11 1L8.5 8.5l.94-2.06 2.06-.94-2.06-.94L8.5 2.5l-.94 2.06-2.06.94zm10 10l.94 2.06.94-2.06 2.06-.94-2.06-.94-.94-2.06-.94 2.06-2.06.94z\"/><path d=\"M17.41 7.96l-1.37-1.37c-.4-.4-.92-.59-1.43-.59-.52 0-1.04.2-1.43.59L10.3 9.45l-7.72 7.72c-.78.78-.78 2.05 0 2.83L4 21.41c.39.39.9.59 1.41.59.51 0 1.02-.2 1.41-.59l7.78-7.78 2.81-2.81c.8-.78.8-2.07 0-2.86zM5.41 20L4 18.59l7.72-7.72 1.47 1.35L5.41 20z\"/>\n",
              "  </svg>\n",
              "      </button>\n",
              "      \n",
              "  <style>\n",
              "    .colab-df-container {\n",
              "      display:flex;\n",
              "      flex-wrap:wrap;\n",
              "      gap: 12px;\n",
              "    }\n",
              "\n",
              "    .colab-df-convert {\n",
              "      background-color: #E8F0FE;\n",
              "      border: none;\n",
              "      border-radius: 50%;\n",
              "      cursor: pointer;\n",
              "      display: none;\n",
              "      fill: #1967D2;\n",
              "      height: 32px;\n",
              "      padding: 0 0 0 0;\n",
              "      width: 32px;\n",
              "    }\n",
              "\n",
              "    .colab-df-convert:hover {\n",
              "      background-color: #E2EBFA;\n",
              "      box-shadow: 0px 1px 2px rgba(60, 64, 67, 0.3), 0px 1px 3px 1px rgba(60, 64, 67, 0.15);\n",
              "      fill: #174EA6;\n",
              "    }\n",
              "\n",
              "    [theme=dark] .colab-df-convert {\n",
              "      background-color: #3B4455;\n",
              "      fill: #D2E3FC;\n",
              "    }\n",
              "\n",
              "    [theme=dark] .colab-df-convert:hover {\n",
              "      background-color: #434B5C;\n",
              "      box-shadow: 0px 1px 3px 1px rgba(0, 0, 0, 0.15);\n",
              "      filter: drop-shadow(0px 1px 2px rgba(0, 0, 0, 0.3));\n",
              "      fill: #FFFFFF;\n",
              "    }\n",
              "  </style>\n",
              "\n",
              "      <script>\n",
              "        const buttonEl =\n",
              "          document.querySelector('#df-ebf02063-2dc4-49a2-b14e-507f46c55483 button.colab-df-convert');\n",
              "        buttonEl.style.display =\n",
              "          google.colab.kernel.accessAllowed ? 'block' : 'none';\n",
              "\n",
              "        async function convertToInteractive(key) {\n",
              "          const element = document.querySelector('#df-ebf02063-2dc4-49a2-b14e-507f46c55483');\n",
              "          const dataTable =\n",
              "            await google.colab.kernel.invokeFunction('convertToInteractive',\n",
              "                                                     [key], {});\n",
              "          if (!dataTable) return;\n",
              "\n",
              "          const docLinkHtml = 'Like what you see? Visit the ' +\n",
              "            '<a target=\"_blank\" href=https://colab.research.google.com/notebooks/data_table.ipynb>data table notebook</a>'\n",
              "            + ' to learn more about interactive tables.';\n",
              "          element.innerHTML = '';\n",
              "          dataTable['output_type'] = 'display_data';\n",
              "          await google.colab.output.renderOutput(dataTable, element);\n",
              "          const docLink = document.createElement('div');\n",
              "          docLink.innerHTML = docLinkHtml;\n",
              "          element.appendChild(docLink);\n",
              "        }\n",
              "      </script>\n",
              "    </div>\n",
              "  </div>\n",
              "  "
            ]
          },
          "metadata": {},
          "execution_count": 139
        }
      ]
    },
    {
      "cell_type": "code",
      "source": [
        "house.shape"
      ],
      "metadata": {
        "colab": {
          "base_uri": "https://localhost:8080/"
        },
        "id": "pl12Jzf7L58u",
        "outputId": "a22ec77c-8044-4b43-9988-ecda95eed5f5"
      },
      "execution_count": 140,
      "outputs": [
        {
          "output_type": "execute_result",
          "data": {
            "text/plain": [
              "(4865, 16)"
            ]
          },
          "metadata": {},
          "execution_count": 140
        }
      ]
    },
    {
      "cell_type": "markdown",
      "source": [
        "# Final Cleaning"
      ],
      "metadata": {
        "id": "I13Cy_yrowZW"
      }
    },
    {
      "cell_type": "code",
      "source": [
        "house.dtypes"
      ],
      "metadata": {
        "colab": {
          "base_uri": "https://localhost:8080/"
        },
        "id": "KmBQMcSzowE1",
        "outputId": "48abddeb-de12-4e32-d146-ecd36ebf3bd2"
      },
      "execution_count": 141,
      "outputs": [
        {
          "output_type": "execute_result",
          "data": {
            "text/plain": [
              "MLS                   int64\n",
              "sold_price            int64\n",
              "zipcode               int64\n",
              "longitude           float64\n",
              "latitude            float64\n",
              "lot_acres           float64\n",
              "taxes               float64\n",
              "year_built            int64\n",
              "bedrooms              int64\n",
              "bathrooms           float64\n",
              "sqrt_ft               int64\n",
              "garage              float64\n",
              "kitchen_features     object\n",
              "fireplaces            int64\n",
              "floor_covering       object\n",
              "HOA                   int64\n",
              "dtype: object"
            ]
          },
          "metadata": {},
          "execution_count": 141
        }
      ]
    },
    {
      "cell_type": "code",
      "source": [
        "house['floor_covering'] = house['floor_covering'].str.count(',')+1\n",
        "house['kitchen_features'] = house['kitchen_features'].str.count(',')+1"
      ],
      "metadata": {
        "id": "PsD-wm9Oynnj"
      },
      "execution_count": 142,
      "outputs": []
    },
    {
      "cell_type": "code",
      "source": [
        "house['garage'].unique()"
      ],
      "metadata": {
        "colab": {
          "base_uri": "https://localhost:8080/"
        },
        "id": "6hopR_iN4l2C",
        "outputId": "2f354217-628f-4a5e-94d4-0baaaef08e50"
      },
      "execution_count": 143,
      "outputs": [
        {
          "output_type": "execute_result",
          "data": {
            "text/plain": [
              "array([ 0. ,  4. ,  3. ,  5. ,  2. ,  6. , 15. ,  8. ,  7. ,  4.5,  3.5,\n",
              "        2.5,  1. ,  9. , 22. , 30. , 12. , 10. , 11. , 20. , 13. ])"
            ]
          },
          "metadata": {},
          "execution_count": 143
        }
      ]
    },
    {
      "cell_type": "code",
      "source": [
        "house"
      ],
      "metadata": {
        "colab": {
          "base_uri": "https://localhost:8080/",
          "height": 0
        },
        "id": "JrX1mlbTvJUt",
        "outputId": "cb338da3-86e0-4b86-b618-644ad58d98fe"
      },
      "execution_count": 144,
      "outputs": [
        {
          "output_type": "execute_result",
          "data": {
            "text/plain": [
              "           MLS  sold_price  zipcode   longitude   latitude  lot_acres  \\\n",
              "0     21530491     5300000    85637 -110.378200  31.356362    2154.00   \n",
              "1     21529082     4200000    85646 -111.045371  31.594213    1707.00   \n",
              "3     21919321     4500000    85646 -111.035925  31.645878     636.67   \n",
              "4     21306357     3411450    85750 -110.813768  32.285162       3.21   \n",
              "5     21528016     3250000    85718 -110.910593  32.339090       1.67   \n",
              "...        ...         ...      ...         ...        ...        ...   \n",
              "4994  21909379      535000    85718 -110.922291  32.317496       0.18   \n",
              "4995  21810382      495000    85641 -110.661829  31.907917       4.98   \n",
              "4996  21908591      550000    85750 -110.858556  32.316373       1.42   \n",
              "4997  21832452      475000    85192 -110.755428  32.964708      12.06   \n",
              "4998  21900515      550000    85745 -111.055528  32.296871       1.01   \n",
              "\n",
              "         taxes  year_built  bedrooms  bathrooms  sqrt_ft  garage  \\\n",
              "0      5272.00        1941        13       10.0    10500     0.0   \n",
              "1     10422.36        1997         2        2.0     7300     0.0   \n",
              "3      8418.58        1930         7        5.0     9019     4.0   \n",
              "4     15393.00        1995         4        6.0     6396     3.0   \n",
              "5     27802.84        1999         3        4.0     6842     3.0   \n",
              "...        ...         ...       ...        ...      ...     ...   \n",
              "4994   4414.00        2002         3        2.0     2106     2.0   \n",
              "4995   2017.00        2005         5        3.0     3601     3.0   \n",
              "4996   4822.01        1990         4        3.0     2318     3.0   \n",
              "4997   1000.00        1969         3        2.0     1772     0.0   \n",
              "4998   5822.93        2009         4        4.0     3724     3.0   \n",
              "\n",
              "      kitchen_features  fireplaces  floor_covering  HOA  \n",
              "0                    4           6               2    0  \n",
              "1                    2           5               2    0  \n",
              "3                    4           4               3    1  \n",
              "4                    5           5               2    1  \n",
              "5                    5           5               3    1  \n",
              "...                ...         ...             ...  ...  \n",
              "4994                10           1               1    1  \n",
              "4995                 9           1               2    1  \n",
              "4996                10           1               2    1  \n",
              "4997                 6           0               1    1  \n",
              "4998                 9           1               2    1  \n",
              "\n",
              "[4865 rows x 16 columns]"
            ],
            "text/html": [
              "\n",
              "  <div id=\"df-4fecef7c-5532-4262-9fce-313a6d31ddef\">\n",
              "    <div class=\"colab-df-container\">\n",
              "      <div>\n",
              "<style scoped>\n",
              "    .dataframe tbody tr th:only-of-type {\n",
              "        vertical-align: middle;\n",
              "    }\n",
              "\n",
              "    .dataframe tbody tr th {\n",
              "        vertical-align: top;\n",
              "    }\n",
              "\n",
              "    .dataframe thead th {\n",
              "        text-align: right;\n",
              "    }\n",
              "</style>\n",
              "<table border=\"1\" class=\"dataframe\">\n",
              "  <thead>\n",
              "    <tr style=\"text-align: right;\">\n",
              "      <th></th>\n",
              "      <th>MLS</th>\n",
              "      <th>sold_price</th>\n",
              "      <th>zipcode</th>\n",
              "      <th>longitude</th>\n",
              "      <th>latitude</th>\n",
              "      <th>lot_acres</th>\n",
              "      <th>taxes</th>\n",
              "      <th>year_built</th>\n",
              "      <th>bedrooms</th>\n",
              "      <th>bathrooms</th>\n",
              "      <th>sqrt_ft</th>\n",
              "      <th>garage</th>\n",
              "      <th>kitchen_features</th>\n",
              "      <th>fireplaces</th>\n",
              "      <th>floor_covering</th>\n",
              "      <th>HOA</th>\n",
              "    </tr>\n",
              "  </thead>\n",
              "  <tbody>\n",
              "    <tr>\n",
              "      <th>0</th>\n",
              "      <td>21530491</td>\n",
              "      <td>5300000</td>\n",
              "      <td>85637</td>\n",
              "      <td>-110.378200</td>\n",
              "      <td>31.356362</td>\n",
              "      <td>2154.00</td>\n",
              "      <td>5272.00</td>\n",
              "      <td>1941</td>\n",
              "      <td>13</td>\n",
              "      <td>10.0</td>\n",
              "      <td>10500</td>\n",
              "      <td>0.0</td>\n",
              "      <td>4</td>\n",
              "      <td>6</td>\n",
              "      <td>2</td>\n",
              "      <td>0</td>\n",
              "    </tr>\n",
              "    <tr>\n",
              "      <th>1</th>\n",
              "      <td>21529082</td>\n",
              "      <td>4200000</td>\n",
              "      <td>85646</td>\n",
              "      <td>-111.045371</td>\n",
              "      <td>31.594213</td>\n",
              "      <td>1707.00</td>\n",
              "      <td>10422.36</td>\n",
              "      <td>1997</td>\n",
              "      <td>2</td>\n",
              "      <td>2.0</td>\n",
              "      <td>7300</td>\n",
              "      <td>0.0</td>\n",
              "      <td>2</td>\n",
              "      <td>5</td>\n",
              "      <td>2</td>\n",
              "      <td>0</td>\n",
              "    </tr>\n",
              "    <tr>\n",
              "      <th>3</th>\n",
              "      <td>21919321</td>\n",
              "      <td>4500000</td>\n",
              "      <td>85646</td>\n",
              "      <td>-111.035925</td>\n",
              "      <td>31.645878</td>\n",
              "      <td>636.67</td>\n",
              "      <td>8418.58</td>\n",
              "      <td>1930</td>\n",
              "      <td>7</td>\n",
              "      <td>5.0</td>\n",
              "      <td>9019</td>\n",
              "      <td>4.0</td>\n",
              "      <td>4</td>\n",
              "      <td>4</td>\n",
              "      <td>3</td>\n",
              "      <td>1</td>\n",
              "    </tr>\n",
              "    <tr>\n",
              "      <th>4</th>\n",
              "      <td>21306357</td>\n",
              "      <td>3411450</td>\n",
              "      <td>85750</td>\n",
              "      <td>-110.813768</td>\n",
              "      <td>32.285162</td>\n",
              "      <td>3.21</td>\n",
              "      <td>15393.00</td>\n",
              "      <td>1995</td>\n",
              "      <td>4</td>\n",
              "      <td>6.0</td>\n",
              "      <td>6396</td>\n",
              "      <td>3.0</td>\n",
              "      <td>5</td>\n",
              "      <td>5</td>\n",
              "      <td>2</td>\n",
              "      <td>1</td>\n",
              "    </tr>\n",
              "    <tr>\n",
              "      <th>5</th>\n",
              "      <td>21528016</td>\n",
              "      <td>3250000</td>\n",
              "      <td>85718</td>\n",
              "      <td>-110.910593</td>\n",
              "      <td>32.339090</td>\n",
              "      <td>1.67</td>\n",
              "      <td>27802.84</td>\n",
              "      <td>1999</td>\n",
              "      <td>3</td>\n",
              "      <td>4.0</td>\n",
              "      <td>6842</td>\n",
              "      <td>3.0</td>\n",
              "      <td>5</td>\n",
              "      <td>5</td>\n",
              "      <td>3</td>\n",
              "      <td>1</td>\n",
              "    </tr>\n",
              "    <tr>\n",
              "      <th>...</th>\n",
              "      <td>...</td>\n",
              "      <td>...</td>\n",
              "      <td>...</td>\n",
              "      <td>...</td>\n",
              "      <td>...</td>\n",
              "      <td>...</td>\n",
              "      <td>...</td>\n",
              "      <td>...</td>\n",
              "      <td>...</td>\n",
              "      <td>...</td>\n",
              "      <td>...</td>\n",
              "      <td>...</td>\n",
              "      <td>...</td>\n",
              "      <td>...</td>\n",
              "      <td>...</td>\n",
              "      <td>...</td>\n",
              "    </tr>\n",
              "    <tr>\n",
              "      <th>4994</th>\n",
              "      <td>21909379</td>\n",
              "      <td>535000</td>\n",
              "      <td>85718</td>\n",
              "      <td>-110.922291</td>\n",
              "      <td>32.317496</td>\n",
              "      <td>0.18</td>\n",
              "      <td>4414.00</td>\n",
              "      <td>2002</td>\n",
              "      <td>3</td>\n",
              "      <td>2.0</td>\n",
              "      <td>2106</td>\n",
              "      <td>2.0</td>\n",
              "      <td>10</td>\n",
              "      <td>1</td>\n",
              "      <td>1</td>\n",
              "      <td>1</td>\n",
              "    </tr>\n",
              "    <tr>\n",
              "      <th>4995</th>\n",
              "      <td>21810382</td>\n",
              "      <td>495000</td>\n",
              "      <td>85641</td>\n",
              "      <td>-110.661829</td>\n",
              "      <td>31.907917</td>\n",
              "      <td>4.98</td>\n",
              "      <td>2017.00</td>\n",
              "      <td>2005</td>\n",
              "      <td>5</td>\n",
              "      <td>3.0</td>\n",
              "      <td>3601</td>\n",
              "      <td>3.0</td>\n",
              "      <td>9</td>\n",
              "      <td>1</td>\n",
              "      <td>2</td>\n",
              "      <td>1</td>\n",
              "    </tr>\n",
              "    <tr>\n",
              "      <th>4996</th>\n",
              "      <td>21908591</td>\n",
              "      <td>550000</td>\n",
              "      <td>85750</td>\n",
              "      <td>-110.858556</td>\n",
              "      <td>32.316373</td>\n",
              "      <td>1.42</td>\n",
              "      <td>4822.01</td>\n",
              "      <td>1990</td>\n",
              "      <td>4</td>\n",
              "      <td>3.0</td>\n",
              "      <td>2318</td>\n",
              "      <td>3.0</td>\n",
              "      <td>10</td>\n",
              "      <td>1</td>\n",
              "      <td>2</td>\n",
              "      <td>1</td>\n",
              "    </tr>\n",
              "    <tr>\n",
              "      <th>4997</th>\n",
              "      <td>21832452</td>\n",
              "      <td>475000</td>\n",
              "      <td>85192</td>\n",
              "      <td>-110.755428</td>\n",
              "      <td>32.964708</td>\n",
              "      <td>12.06</td>\n",
              "      <td>1000.00</td>\n",
              "      <td>1969</td>\n",
              "      <td>3</td>\n",
              "      <td>2.0</td>\n",
              "      <td>1772</td>\n",
              "      <td>0.0</td>\n",
              "      <td>6</td>\n",
              "      <td>0</td>\n",
              "      <td>1</td>\n",
              "      <td>1</td>\n",
              "    </tr>\n",
              "    <tr>\n",
              "      <th>4998</th>\n",
              "      <td>21900515</td>\n",
              "      <td>550000</td>\n",
              "      <td>85745</td>\n",
              "      <td>-111.055528</td>\n",
              "      <td>32.296871</td>\n",
              "      <td>1.01</td>\n",
              "      <td>5822.93</td>\n",
              "      <td>2009</td>\n",
              "      <td>4</td>\n",
              "      <td>4.0</td>\n",
              "      <td>3724</td>\n",
              "      <td>3.0</td>\n",
              "      <td>9</td>\n",
              "      <td>1</td>\n",
              "      <td>2</td>\n",
              "      <td>1</td>\n",
              "    </tr>\n",
              "  </tbody>\n",
              "</table>\n",
              "<p>4865 rows × 16 columns</p>\n",
              "</div>\n",
              "      <button class=\"colab-df-convert\" onclick=\"convertToInteractive('df-4fecef7c-5532-4262-9fce-313a6d31ddef')\"\n",
              "              title=\"Convert this dataframe to an interactive table.\"\n",
              "              style=\"display:none;\">\n",
              "        \n",
              "  <svg xmlns=\"http://www.w3.org/2000/svg\" height=\"24px\"viewBox=\"0 0 24 24\"\n",
              "       width=\"24px\">\n",
              "    <path d=\"M0 0h24v24H0V0z\" fill=\"none\"/>\n",
              "    <path d=\"M18.56 5.44l.94 2.06.94-2.06 2.06-.94-2.06-.94-.94-2.06-.94 2.06-2.06.94zm-11 1L8.5 8.5l.94-2.06 2.06-.94-2.06-.94L8.5 2.5l-.94 2.06-2.06.94zm10 10l.94 2.06.94-2.06 2.06-.94-2.06-.94-.94-2.06-.94 2.06-2.06.94z\"/><path d=\"M17.41 7.96l-1.37-1.37c-.4-.4-.92-.59-1.43-.59-.52 0-1.04.2-1.43.59L10.3 9.45l-7.72 7.72c-.78.78-.78 2.05 0 2.83L4 21.41c.39.39.9.59 1.41.59.51 0 1.02-.2 1.41-.59l7.78-7.78 2.81-2.81c.8-.78.8-2.07 0-2.86zM5.41 20L4 18.59l7.72-7.72 1.47 1.35L5.41 20z\"/>\n",
              "  </svg>\n",
              "      </button>\n",
              "      \n",
              "  <style>\n",
              "    .colab-df-container {\n",
              "      display:flex;\n",
              "      flex-wrap:wrap;\n",
              "      gap: 12px;\n",
              "    }\n",
              "\n",
              "    .colab-df-convert {\n",
              "      background-color: #E8F0FE;\n",
              "      border: none;\n",
              "      border-radius: 50%;\n",
              "      cursor: pointer;\n",
              "      display: none;\n",
              "      fill: #1967D2;\n",
              "      height: 32px;\n",
              "      padding: 0 0 0 0;\n",
              "      width: 32px;\n",
              "    }\n",
              "\n",
              "    .colab-df-convert:hover {\n",
              "      background-color: #E2EBFA;\n",
              "      box-shadow: 0px 1px 2px rgba(60, 64, 67, 0.3), 0px 1px 3px 1px rgba(60, 64, 67, 0.15);\n",
              "      fill: #174EA6;\n",
              "    }\n",
              "\n",
              "    [theme=dark] .colab-df-convert {\n",
              "      background-color: #3B4455;\n",
              "      fill: #D2E3FC;\n",
              "    }\n",
              "\n",
              "    [theme=dark] .colab-df-convert:hover {\n",
              "      background-color: #434B5C;\n",
              "      box-shadow: 0px 1px 3px 1px rgba(0, 0, 0, 0.15);\n",
              "      filter: drop-shadow(0px 1px 2px rgba(0, 0, 0, 0.3));\n",
              "      fill: #FFFFFF;\n",
              "    }\n",
              "  </style>\n",
              "\n",
              "      <script>\n",
              "        const buttonEl =\n",
              "          document.querySelector('#df-4fecef7c-5532-4262-9fce-313a6d31ddef button.colab-df-convert');\n",
              "        buttonEl.style.display =\n",
              "          google.colab.kernel.accessAllowed ? 'block' : 'none';\n",
              "\n",
              "        async function convertToInteractive(key) {\n",
              "          const element = document.querySelector('#df-4fecef7c-5532-4262-9fce-313a6d31ddef');\n",
              "          const dataTable =\n",
              "            await google.colab.kernel.invokeFunction('convertToInteractive',\n",
              "                                                     [key], {});\n",
              "          if (!dataTable) return;\n",
              "\n",
              "          const docLinkHtml = 'Like what you see? Visit the ' +\n",
              "            '<a target=\"_blank\" href=https://colab.research.google.com/notebooks/data_table.ipynb>data table notebook</a>'\n",
              "            + ' to learn more about interactive tables.';\n",
              "          element.innerHTML = '';\n",
              "          dataTable['output_type'] = 'display_data';\n",
              "          await google.colab.output.renderOutput(dataTable, element);\n",
              "          const docLink = document.createElement('div');\n",
              "          docLink.innerHTML = docLinkHtml;\n",
              "          element.appendChild(docLink);\n",
              "        }\n",
              "      </script>\n",
              "    </div>\n",
              "  </div>\n",
              "  "
            ]
          },
          "metadata": {},
          "execution_count": 144
        }
      ]
    },
    {
      "cell_type": "code",
      "source": [
        "#sorted(house['sold_price'])"
      ],
      "metadata": {
        "id": "9eKOPpenvKam"
      },
      "execution_count": 145,
      "outputs": []
    },
    {
      "cell_type": "markdown",
      "source": [
        "# KNN"
      ],
      "metadata": {
        "id": "TX7gstV7mYSo"
      }
    },
    {
      "cell_type": "markdown",
      "source": [
        "Define a radius:\n",
        "$radius(V_R) =\\vert\\vert x_{(k)} -x\\vert\\vert$\n",
        "\n",
        "$\\gamma_k = \\frac{1}{\\vert\\vert x {(k)}-x\\vert\\vert = \\epsilon}$"
      ],
      "metadata": {
        "id": "42yeb8LP8T3k"
      }
    },
    {
      "cell_type": "code",
      "source": [
        "class KNNRegressor():\n",
        "\n",
        "  def fit(self, X,y):\n",
        "    self.X=X\n",
        "    self.y=y\n",
        "\n",
        "  def predict(self, X,K, epsilon = 1e-3):\n",
        "    N = len(X)\n",
        "    y_hat = np.zeros(N)\n",
        "\n",
        "    for i in range(N):\n",
        "      dist2 = np.sum((self.X - X[i])**2, axis=1)\n",
        "      idxt = np.argsort(dist2)[:K]\n",
        "      gamma_k = np.exp(-dist2[idxt])/np.exp(-dist2[idxt]).sum()\n",
        "      y_hat[i] = gamma_k.dot(self.y[idxt])\n",
        "\n",
        "    return y_hat"
      ],
      "metadata": {
        "id": "L1ATe0sNtef3"
      },
      "execution_count": 146,
      "outputs": []
    },
    {
      "cell_type": "code",
      "source": [
        "class KNNClassifier():\n",
        "\n",
        "  def fit(self, X, y):\n",
        "    self.X = X\n",
        "    self.y = y\n",
        "\n",
        "\n",
        "  def predict(self, X, K, epsilon = 1e-3):\n",
        "    N = len(X)\n",
        "    y_hat = np.zeros(N)\n",
        "\n",
        "    for i in range(N):\n",
        "      dist2 = np.sum((self.X-X[i])**2,axis=1)\n",
        "      idxt  = np.argsort(dist2)[:K]\n",
        "      gamma_k=1/(np.sqrt(dist2[idxt]+epsilon))\n",
        "      y_hat[i] = np.bincount(self.y[idxt], weights=gamma_k).argmax()\n",
        "\n",
        "\n",
        "    return y_hat"
      ],
      "metadata": {
        "id": "t3eyrNMTSu-w"
      },
      "execution_count": 147,
      "outputs": []
    },
    {
      "cell_type": "code",
      "source": [
        "def accuracy(y, y_hat):\n",
        "  return np.mean(y==y_hat)"
      ],
      "metadata": {
        "id": "lRbSg0n3kTRe"
      },
      "execution_count": 148,
      "outputs": []
    },
    {
      "cell_type": "code",
      "source": [
        "knn = KNNClassifier()"
      ],
      "metadata": {
        "id": "Xa-cyjWVlkRv"
      },
      "execution_count": 149,
      "outputs": []
    },
    {
      "cell_type": "code",
      "source": [
        "#define function to calculate equal-frequency bins \n",
        "def equalObs(x, nbin):\n",
        "    nlen = len(x)\n",
        "    return np.interp(np.linspace(0, nlen, nbin + 1),\n",
        "                     np.arange(nlen),\n",
        "                     np.sort(x))"
      ],
      "metadata": {
        "id": "wS04kl-q3ngV"
      },
      "execution_count": 150,
      "outputs": []
    },
    {
      "cell_type": "code",
      "source": [
        "#Feature Engineering \n",
        "df_pps = pd.DataFrame(house['sold_price'] / house['sqrt_ft'], columns=['ppsqft'])\n",
        "\n",
        "#remove everything not in $100-$800 range\n",
        "df_pps =  df_pps.loc[df_pps[\"ppsqft\"] >=100]\n",
        "df_pps =  df_pps.loc[df_pps[\"ppsqft\"] <=800]\n",
        "\n",
        "#create bins\n",
        "bins = equalObs(df_pps['ppsqft'],10)\n",
        "labels = list(range(1,11))\n",
        "df_pps.ppsqft = pd.cut(df_pps.ppsqft, bins=bins, labels=labels)\n",
        "\n",
        "#create data to make classification\n",
        "df_ppsqft = pd.DataFrame(house[['longitude','latitude']])\n",
        "df_ppsqft = pd.concat([df_ppsqft, df_pps['ppsqft']], axis=1)\n",
        "df_ppsqft['ppsqft'] = df_ppsqft.ppsqft.astype('category').cat.codes +1\n",
        "df_ppsqft = df_ppsqft.reset_index(drop=True)\n",
        "df_ppsqft"
      ],
      "metadata": {
        "colab": {
          "base_uri": "https://localhost:8080/",
          "height": 423
        },
        "id": "yY56rIb0y0EG",
        "outputId": "3110dd9f-1cf2-4b21-e1ab-8300288b0626"
      },
      "execution_count": 151,
      "outputs": [
        {
          "output_type": "execute_result",
          "data": {
            "text/plain": [
              "       longitude   latitude  ppsqft\n",
              "0    -110.378200  31.356362      10\n",
              "1    -111.045371  31.594213      10\n",
              "2    -111.035925  31.645878      10\n",
              "3    -110.813768  32.285162      10\n",
              "4    -110.910593  32.339090      10\n",
              "...          ...        ...     ...\n",
              "4860 -110.922291  32.317496       9\n",
              "4861 -110.661829  31.907917       1\n",
              "4862 -110.858556  32.316373       8\n",
              "4863 -110.755428  32.964708       9\n",
              "4864 -111.055528  32.296871       1\n",
              "\n",
              "[4865 rows x 3 columns]"
            ],
            "text/html": [
              "\n",
              "  <div id=\"df-18988ba3-3da1-4250-8ca8-5698399f257c\">\n",
              "    <div class=\"colab-df-container\">\n",
              "      <div>\n",
              "<style scoped>\n",
              "    .dataframe tbody tr th:only-of-type {\n",
              "        vertical-align: middle;\n",
              "    }\n",
              "\n",
              "    .dataframe tbody tr th {\n",
              "        vertical-align: top;\n",
              "    }\n",
              "\n",
              "    .dataframe thead th {\n",
              "        text-align: right;\n",
              "    }\n",
              "</style>\n",
              "<table border=\"1\" class=\"dataframe\">\n",
              "  <thead>\n",
              "    <tr style=\"text-align: right;\">\n",
              "      <th></th>\n",
              "      <th>longitude</th>\n",
              "      <th>latitude</th>\n",
              "      <th>ppsqft</th>\n",
              "    </tr>\n",
              "  </thead>\n",
              "  <tbody>\n",
              "    <tr>\n",
              "      <th>0</th>\n",
              "      <td>-110.378200</td>\n",
              "      <td>31.356362</td>\n",
              "      <td>10</td>\n",
              "    </tr>\n",
              "    <tr>\n",
              "      <th>1</th>\n",
              "      <td>-111.045371</td>\n",
              "      <td>31.594213</td>\n",
              "      <td>10</td>\n",
              "    </tr>\n",
              "    <tr>\n",
              "      <th>2</th>\n",
              "      <td>-111.035925</td>\n",
              "      <td>31.645878</td>\n",
              "      <td>10</td>\n",
              "    </tr>\n",
              "    <tr>\n",
              "      <th>3</th>\n",
              "      <td>-110.813768</td>\n",
              "      <td>32.285162</td>\n",
              "      <td>10</td>\n",
              "    </tr>\n",
              "    <tr>\n",
              "      <th>4</th>\n",
              "      <td>-110.910593</td>\n",
              "      <td>32.339090</td>\n",
              "      <td>10</td>\n",
              "    </tr>\n",
              "    <tr>\n",
              "      <th>...</th>\n",
              "      <td>...</td>\n",
              "      <td>...</td>\n",
              "      <td>...</td>\n",
              "    </tr>\n",
              "    <tr>\n",
              "      <th>4860</th>\n",
              "      <td>-110.922291</td>\n",
              "      <td>32.317496</td>\n",
              "      <td>9</td>\n",
              "    </tr>\n",
              "    <tr>\n",
              "      <th>4861</th>\n",
              "      <td>-110.661829</td>\n",
              "      <td>31.907917</td>\n",
              "      <td>1</td>\n",
              "    </tr>\n",
              "    <tr>\n",
              "      <th>4862</th>\n",
              "      <td>-110.858556</td>\n",
              "      <td>32.316373</td>\n",
              "      <td>8</td>\n",
              "    </tr>\n",
              "    <tr>\n",
              "      <th>4863</th>\n",
              "      <td>-110.755428</td>\n",
              "      <td>32.964708</td>\n",
              "      <td>9</td>\n",
              "    </tr>\n",
              "    <tr>\n",
              "      <th>4864</th>\n",
              "      <td>-111.055528</td>\n",
              "      <td>32.296871</td>\n",
              "      <td>1</td>\n",
              "    </tr>\n",
              "  </tbody>\n",
              "</table>\n",
              "<p>4865 rows × 3 columns</p>\n",
              "</div>\n",
              "      <button class=\"colab-df-convert\" onclick=\"convertToInteractive('df-18988ba3-3da1-4250-8ca8-5698399f257c')\"\n",
              "              title=\"Convert this dataframe to an interactive table.\"\n",
              "              style=\"display:none;\">\n",
              "        \n",
              "  <svg xmlns=\"http://www.w3.org/2000/svg\" height=\"24px\"viewBox=\"0 0 24 24\"\n",
              "       width=\"24px\">\n",
              "    <path d=\"M0 0h24v24H0V0z\" fill=\"none\"/>\n",
              "    <path d=\"M18.56 5.44l.94 2.06.94-2.06 2.06-.94-2.06-.94-.94-2.06-.94 2.06-2.06.94zm-11 1L8.5 8.5l.94-2.06 2.06-.94-2.06-.94L8.5 2.5l-.94 2.06-2.06.94zm10 10l.94 2.06.94-2.06 2.06-.94-2.06-.94-.94-2.06-.94 2.06-2.06.94z\"/><path d=\"M17.41 7.96l-1.37-1.37c-.4-.4-.92-.59-1.43-.59-.52 0-1.04.2-1.43.59L10.3 9.45l-7.72 7.72c-.78.78-.78 2.05 0 2.83L4 21.41c.39.39.9.59 1.41.59.51 0 1.02-.2 1.41-.59l7.78-7.78 2.81-2.81c.8-.78.8-2.07 0-2.86zM5.41 20L4 18.59l7.72-7.72 1.47 1.35L5.41 20z\"/>\n",
              "  </svg>\n",
              "      </button>\n",
              "      \n",
              "  <style>\n",
              "    .colab-df-container {\n",
              "      display:flex;\n",
              "      flex-wrap:wrap;\n",
              "      gap: 12px;\n",
              "    }\n",
              "\n",
              "    .colab-df-convert {\n",
              "      background-color: #E8F0FE;\n",
              "      border: none;\n",
              "      border-radius: 50%;\n",
              "      cursor: pointer;\n",
              "      display: none;\n",
              "      fill: #1967D2;\n",
              "      height: 32px;\n",
              "      padding: 0 0 0 0;\n",
              "      width: 32px;\n",
              "    }\n",
              "\n",
              "    .colab-df-convert:hover {\n",
              "      background-color: #E2EBFA;\n",
              "      box-shadow: 0px 1px 2px rgba(60, 64, 67, 0.3), 0px 1px 3px 1px rgba(60, 64, 67, 0.15);\n",
              "      fill: #174EA6;\n",
              "    }\n",
              "\n",
              "    [theme=dark] .colab-df-convert {\n",
              "      background-color: #3B4455;\n",
              "      fill: #D2E3FC;\n",
              "    }\n",
              "\n",
              "    [theme=dark] .colab-df-convert:hover {\n",
              "      background-color: #434B5C;\n",
              "      box-shadow: 0px 1px 3px 1px rgba(0, 0, 0, 0.15);\n",
              "      filter: drop-shadow(0px 1px 2px rgba(0, 0, 0, 0.3));\n",
              "      fill: #FFFFFF;\n",
              "    }\n",
              "  </style>\n",
              "\n",
              "      <script>\n",
              "        const buttonEl =\n",
              "          document.querySelector('#df-18988ba3-3da1-4250-8ca8-5698399f257c button.colab-df-convert');\n",
              "        buttonEl.style.display =\n",
              "          google.colab.kernel.accessAllowed ? 'block' : 'none';\n",
              "\n",
              "        async function convertToInteractive(key) {\n",
              "          const element = document.querySelector('#df-18988ba3-3da1-4250-8ca8-5698399f257c');\n",
              "          const dataTable =\n",
              "            await google.colab.kernel.invokeFunction('convertToInteractive',\n",
              "                                                     [key], {});\n",
              "          if (!dataTable) return;\n",
              "\n",
              "          const docLinkHtml = 'Like what you see? Visit the ' +\n",
              "            '<a target=\"_blank\" href=https://colab.research.google.com/notebooks/data_table.ipynb>data table notebook</a>'\n",
              "            + ' to learn more about interactive tables.';\n",
              "          element.innerHTML = '';\n",
              "          dataTable['output_type'] = 'display_data';\n",
              "          await google.colab.output.renderOutput(dataTable, element);\n",
              "          const docLink = document.createElement('div');\n",
              "          docLink.innerHTML = docLinkHtml;\n",
              "          element.appendChild(docLink);\n",
              "        }\n",
              "      </script>\n",
              "    </div>\n",
              "  </div>\n",
              "  "
            ]
          },
          "metadata": {},
          "execution_count": 151
        }
      ]
    },
    {
      "cell_type": "code",
      "source": [
        "#split data\n",
        "# Shuffle dataframe using sample function\n",
        "df = df_ppsqft.sample(frac=1)\n",
        "df\n",
        "\n",
        "#normalize data\n",
        "for column in df.iloc[:,:-1]:\n",
        "    #data_2[column] = data_2[column]  / data_2[column].abs().max()\n",
        "    df[column] = (df[column] - df[column].min()) / (df[column].max() - df[column].min())    \n",
        "  \n",
        "df\n",
        "\n",
        "df = df.to_numpy()\n",
        "#first shufle the dataset\n",
        "np.random.shuffle(df)\n",
        "num_test = int(len(df)*0.15)\n",
        "\n",
        "#and the split for training and test, and also the target feature\n",
        "X_test = df[0:num_test,:-1]\n",
        "y_test = df[0:num_test,-1].astype(int)\n",
        "X_train = df[num_test:,:-1]\n",
        "y_train = df[num_test:,-1].astype(int)\n",
        "\n",
        "#X_train\n",
        "\n",
        "# # Select ratio\n",
        "# ratio = 0.8\n",
        "\n",
        "# total_rows = df.shape[0]\n",
        "# train_size = int(total_rows*ratio)\n",
        "\n",
        "# # Split data into test and train\n",
        "# train = df[0:train_size]\n",
        "# test = df[train_size:]\n",
        "\n",
        "# #train and test\n",
        "# X_train = train[['longitude', 'latitude']].to_numpy()\n",
        "# y_train = train[['ppsqft']].to_numpy()\n",
        "# y_train = y_train[:, 0]\n",
        "# X_test = test[['longitude', 'latitude']].to_numpy()\n",
        "# y_test = test[['ppsqft']].to_numpy()\n",
        "# y_test = y_test[:, 0]\n",
        "# y_test = np.float32(y_test)\n",
        "\n",
        "#KNN fit\n",
        "knn.fit(X_train,y_train)\n",
        "\n",
        "#predict\n",
        "for n in range(1,10):\n",
        "  y_hat = knn.predict(X_train,n) #k=10\n",
        "  print(n, accuracy(y_train, y_hat))"
      ],
      "metadata": {
        "colab": {
          "base_uri": "https://localhost:8080/"
        },
        "id": "otdFWsin8hJE",
        "outputId": "a96a03d0-a8ba-415c-b17e-a27bce0f7485"
      },
      "execution_count": 152,
      "outputs": [
        {
          "output_type": "stream",
          "name": "stdout",
          "text": [
            "1 0.9941972920696325\n",
            "2 0.9941972920696325\n",
            "3 0.8602514506769826\n",
            "4 0.7159090909090909\n",
            "5 0.6141199226305609\n",
            "6 0.526595744680851\n",
            "7 0.47920696324951645\n",
            "8 0.45478723404255317\n",
            "9 0.4385880077369439\n"
          ]
        }
      ]
    },
    {
      "cell_type": "code",
      "source": [
        "X = X_train.astype(int)"
      ],
      "metadata": {
        "id": "sR6bxhb2J3Vx"
      },
      "execution_count": 153,
      "outputs": []
    },
    {
      "cell_type": "code",
      "source": [
        "knn_model = KNNClassifier()\n",
        "knn_model.fit(X_train, y_train)\n",
        "k = 10\n",
        "y_hat = knn_model.predict(X_train, k)\n",
        "#get accuracy\n",
        "accuracy(y_hat, y_train)"
      ],
      "metadata": {
        "colab": {
          "base_uri": "https://localhost:8080/"
        },
        "id": "1adtVOVOgbAh",
        "outputId": "5d7836fe-7b8d-49af-a042-6c3c09a0fcd6"
      },
      "execution_count": 154,
      "outputs": [
        {
          "output_type": "execute_result",
          "data": {
            "text/plain": [
              "0.41997098646034814"
            ]
          },
          "metadata": {},
          "execution_count": 154
        }
      ]
    },
    {
      "cell_type": "code",
      "source": [
        "# plt.figure()\n",
        "# plt.scatter(X_train[:,0], X_train[:,1], c=y_hat, alpha= 0.5, s= 6)"
      ],
      "metadata": {
        "id": "4yxXXsKulkMH"
      },
      "execution_count": 155,
      "outputs": []
    },
    {
      "cell_type": "markdown",
      "source": [
        "#Feature Selection for regression"
      ],
      "metadata": {
        "id": "Md4JGzBixPo0"
      }
    },
    {
      "cell_type": "code",
      "source": [
        "house.columns"
      ],
      "metadata": {
        "colab": {
          "base_uri": "https://localhost:8080/"
        },
        "id": "N90SodxNxuPW",
        "outputId": "c7b26d3e-fe4a-4a06-b0d7-c4d4ec642e94"
      },
      "execution_count": 156,
      "outputs": [
        {
          "output_type": "execute_result",
          "data": {
            "text/plain": [
              "Index(['MLS', 'sold_price', 'zipcode', 'longitude', 'latitude', 'lot_acres',\n",
              "       'taxes', 'year_built', 'bedrooms', 'bathrooms', 'sqrt_ft', 'garage',\n",
              "       'kitchen_features', 'fireplaces', 'floor_covering', 'HOA'],\n",
              "      dtype='object')"
            ]
          },
          "metadata": {},
          "execution_count": 156
        }
      ]
    },
    {
      "cell_type": "code",
      "source": [
        "#feature selection\n",
        "reg_house = pd.DataFrame(house, columns=['sqrt_ft','bedrooms', 'bathrooms', 'year_built', 'kitchen_features','sold_price'])"
      ],
      "metadata": {
        "id": "KKbFPt2gxUsY"
      },
      "execution_count": 157,
      "outputs": []
    },
    {
      "cell_type": "code",
      "source": [
        "reg_house['rooms'] = reg_house['bedrooms'] + reg_house['bathrooms']\n",
        "reg_house['age'] = 2019 - reg_house['year_built']\n",
        "reg_house['ppsqft'] = df_ppsqft['ppsqft']\n",
        "#feature selection\n",
        "lin_house = pd.DataFrame(reg_house, columns=['sqrt_ft','rooms', 'age', 'kitchen_features', 'ppsqft', 'sold_price'])\n",
        "lin_house = lin_house.dropna().reset_index(drop=True)\n",
        "#lin_house = lin_house.astype(int)"
      ],
      "metadata": {
        "id": "tTtVdoRzyP2h"
      },
      "execution_count": 158,
      "outputs": []
    },
    {
      "cell_type": "code",
      "source": [
        "lin_house"
      ],
      "metadata": {
        "colab": {
          "base_uri": "https://localhost:8080/",
          "height": 423
        },
        "id": "ZmsLzv_byviN",
        "outputId": "ab0811cf-b762-4c4d-8a32-b95c2555dae2"
      },
      "execution_count": 159,
      "outputs": [
        {
          "output_type": "execute_result",
          "data": {
            "text/plain": [
              "      sqrt_ft  rooms  age  kitchen_features  ppsqft  sold_price\n",
              "0       10500   23.0   78                 4    10.0     5300000\n",
              "1        7300    4.0   22                 2    10.0     4200000\n",
              "2        9019   12.0   89                 4    10.0     4500000\n",
              "3        6396   10.0   24                 5    10.0     3411450\n",
              "4        6842    7.0   20                 5     5.0     3250000\n",
              "...       ...    ...  ...               ...     ...         ...\n",
              "4729     3185    6.0   35                 5     5.0      495000\n",
              "4730     3049    7.0   35                 6     9.0      550000\n",
              "4731     2247    5.0   28                 5     1.0      525000\n",
              "4732     2937    7.0   13                 5     8.0      525000\n",
              "4733     3345    8.0   20                 4     1.0      514900\n",
              "\n",
              "[4734 rows x 6 columns]"
            ],
            "text/html": [
              "\n",
              "  <div id=\"df-4d770ceb-3814-4cca-a484-73b5ae13d4d8\">\n",
              "    <div class=\"colab-df-container\">\n",
              "      <div>\n",
              "<style scoped>\n",
              "    .dataframe tbody tr th:only-of-type {\n",
              "        vertical-align: middle;\n",
              "    }\n",
              "\n",
              "    .dataframe tbody tr th {\n",
              "        vertical-align: top;\n",
              "    }\n",
              "\n",
              "    .dataframe thead th {\n",
              "        text-align: right;\n",
              "    }\n",
              "</style>\n",
              "<table border=\"1\" class=\"dataframe\">\n",
              "  <thead>\n",
              "    <tr style=\"text-align: right;\">\n",
              "      <th></th>\n",
              "      <th>sqrt_ft</th>\n",
              "      <th>rooms</th>\n",
              "      <th>age</th>\n",
              "      <th>kitchen_features</th>\n",
              "      <th>ppsqft</th>\n",
              "      <th>sold_price</th>\n",
              "    </tr>\n",
              "  </thead>\n",
              "  <tbody>\n",
              "    <tr>\n",
              "      <th>0</th>\n",
              "      <td>10500</td>\n",
              "      <td>23.0</td>\n",
              "      <td>78</td>\n",
              "      <td>4</td>\n",
              "      <td>10.0</td>\n",
              "      <td>5300000</td>\n",
              "    </tr>\n",
              "    <tr>\n",
              "      <th>1</th>\n",
              "      <td>7300</td>\n",
              "      <td>4.0</td>\n",
              "      <td>22</td>\n",
              "      <td>2</td>\n",
              "      <td>10.0</td>\n",
              "      <td>4200000</td>\n",
              "    </tr>\n",
              "    <tr>\n",
              "      <th>2</th>\n",
              "      <td>9019</td>\n",
              "      <td>12.0</td>\n",
              "      <td>89</td>\n",
              "      <td>4</td>\n",
              "      <td>10.0</td>\n",
              "      <td>4500000</td>\n",
              "    </tr>\n",
              "    <tr>\n",
              "      <th>3</th>\n",
              "      <td>6396</td>\n",
              "      <td>10.0</td>\n",
              "      <td>24</td>\n",
              "      <td>5</td>\n",
              "      <td>10.0</td>\n",
              "      <td>3411450</td>\n",
              "    </tr>\n",
              "    <tr>\n",
              "      <th>4</th>\n",
              "      <td>6842</td>\n",
              "      <td>7.0</td>\n",
              "      <td>20</td>\n",
              "      <td>5</td>\n",
              "      <td>5.0</td>\n",
              "      <td>3250000</td>\n",
              "    </tr>\n",
              "    <tr>\n",
              "      <th>...</th>\n",
              "      <td>...</td>\n",
              "      <td>...</td>\n",
              "      <td>...</td>\n",
              "      <td>...</td>\n",
              "      <td>...</td>\n",
              "      <td>...</td>\n",
              "    </tr>\n",
              "    <tr>\n",
              "      <th>4729</th>\n",
              "      <td>3185</td>\n",
              "      <td>6.0</td>\n",
              "      <td>35</td>\n",
              "      <td>5</td>\n",
              "      <td>5.0</td>\n",
              "      <td>495000</td>\n",
              "    </tr>\n",
              "    <tr>\n",
              "      <th>4730</th>\n",
              "      <td>3049</td>\n",
              "      <td>7.0</td>\n",
              "      <td>35</td>\n",
              "      <td>6</td>\n",
              "      <td>9.0</td>\n",
              "      <td>550000</td>\n",
              "    </tr>\n",
              "    <tr>\n",
              "      <th>4731</th>\n",
              "      <td>2247</td>\n",
              "      <td>5.0</td>\n",
              "      <td>28</td>\n",
              "      <td>5</td>\n",
              "      <td>1.0</td>\n",
              "      <td>525000</td>\n",
              "    </tr>\n",
              "    <tr>\n",
              "      <th>4732</th>\n",
              "      <td>2937</td>\n",
              "      <td>7.0</td>\n",
              "      <td>13</td>\n",
              "      <td>5</td>\n",
              "      <td>8.0</td>\n",
              "      <td>525000</td>\n",
              "    </tr>\n",
              "    <tr>\n",
              "      <th>4733</th>\n",
              "      <td>3345</td>\n",
              "      <td>8.0</td>\n",
              "      <td>20</td>\n",
              "      <td>4</td>\n",
              "      <td>1.0</td>\n",
              "      <td>514900</td>\n",
              "    </tr>\n",
              "  </tbody>\n",
              "</table>\n",
              "<p>4734 rows × 6 columns</p>\n",
              "</div>\n",
              "      <button class=\"colab-df-convert\" onclick=\"convertToInteractive('df-4d770ceb-3814-4cca-a484-73b5ae13d4d8')\"\n",
              "              title=\"Convert this dataframe to an interactive table.\"\n",
              "              style=\"display:none;\">\n",
              "        \n",
              "  <svg xmlns=\"http://www.w3.org/2000/svg\" height=\"24px\"viewBox=\"0 0 24 24\"\n",
              "       width=\"24px\">\n",
              "    <path d=\"M0 0h24v24H0V0z\" fill=\"none\"/>\n",
              "    <path d=\"M18.56 5.44l.94 2.06.94-2.06 2.06-.94-2.06-.94-.94-2.06-.94 2.06-2.06.94zm-11 1L8.5 8.5l.94-2.06 2.06-.94-2.06-.94L8.5 2.5l-.94 2.06-2.06.94zm10 10l.94 2.06.94-2.06 2.06-.94-2.06-.94-.94-2.06-.94 2.06-2.06.94z\"/><path d=\"M17.41 7.96l-1.37-1.37c-.4-.4-.92-.59-1.43-.59-.52 0-1.04.2-1.43.59L10.3 9.45l-7.72 7.72c-.78.78-.78 2.05 0 2.83L4 21.41c.39.39.9.59 1.41.59.51 0 1.02-.2 1.41-.59l7.78-7.78 2.81-2.81c.8-.78.8-2.07 0-2.86zM5.41 20L4 18.59l7.72-7.72 1.47 1.35L5.41 20z\"/>\n",
              "  </svg>\n",
              "      </button>\n",
              "      \n",
              "  <style>\n",
              "    .colab-df-container {\n",
              "      display:flex;\n",
              "      flex-wrap:wrap;\n",
              "      gap: 12px;\n",
              "    }\n",
              "\n",
              "    .colab-df-convert {\n",
              "      background-color: #E8F0FE;\n",
              "      border: none;\n",
              "      border-radius: 50%;\n",
              "      cursor: pointer;\n",
              "      display: none;\n",
              "      fill: #1967D2;\n",
              "      height: 32px;\n",
              "      padding: 0 0 0 0;\n",
              "      width: 32px;\n",
              "    }\n",
              "\n",
              "    .colab-df-convert:hover {\n",
              "      background-color: #E2EBFA;\n",
              "      box-shadow: 0px 1px 2px rgba(60, 64, 67, 0.3), 0px 1px 3px 1px rgba(60, 64, 67, 0.15);\n",
              "      fill: #174EA6;\n",
              "    }\n",
              "\n",
              "    [theme=dark] .colab-df-convert {\n",
              "      background-color: #3B4455;\n",
              "      fill: #D2E3FC;\n",
              "    }\n",
              "\n",
              "    [theme=dark] .colab-df-convert:hover {\n",
              "      background-color: #434B5C;\n",
              "      box-shadow: 0px 1px 3px 1px rgba(0, 0, 0, 0.15);\n",
              "      filter: drop-shadow(0px 1px 2px rgba(0, 0, 0, 0.3));\n",
              "      fill: #FFFFFF;\n",
              "    }\n",
              "  </style>\n",
              "\n",
              "      <script>\n",
              "        const buttonEl =\n",
              "          document.querySelector('#df-4d770ceb-3814-4cca-a484-73b5ae13d4d8 button.colab-df-convert');\n",
              "        buttonEl.style.display =\n",
              "          google.colab.kernel.accessAllowed ? 'block' : 'none';\n",
              "\n",
              "        async function convertToInteractive(key) {\n",
              "          const element = document.querySelector('#df-4d770ceb-3814-4cca-a484-73b5ae13d4d8');\n",
              "          const dataTable =\n",
              "            await google.colab.kernel.invokeFunction('convertToInteractive',\n",
              "                                                     [key], {});\n",
              "          if (!dataTable) return;\n",
              "\n",
              "          const docLinkHtml = 'Like what you see? Visit the ' +\n",
              "            '<a target=\"_blank\" href=https://colab.research.google.com/notebooks/data_table.ipynb>data table notebook</a>'\n",
              "            + ' to learn more about interactive tables.';\n",
              "          element.innerHTML = '';\n",
              "          dataTable['output_type'] = 'display_data';\n",
              "          await google.colab.output.renderOutput(dataTable, element);\n",
              "          const docLink = document.createElement('div');\n",
              "          docLink.innerHTML = docLinkHtml;\n",
              "          element.appendChild(docLink);\n",
              "        }\n",
              "      </script>\n",
              "    </div>\n",
              "  </div>\n",
              "  "
            ]
          },
          "metadata": {},
          "execution_count": 159
        }
      ]
    },
    {
      "cell_type": "code",
      "source": [
        "plt.figure(figsize=(10,5))\n",
        "c = lin_house.corr()\n",
        "sns.heatmap(c,cmap=\"YlGnBu\",annot=True)"
      ],
      "metadata": {
        "colab": {
          "base_uri": "https://localhost:8080/",
          "height": 342
        },
        "id": "ErjYlRvB0qd3",
        "outputId": "6b2d46e5-9904-4e58-8c48-5d293d778019"
      },
      "execution_count": 160,
      "outputs": [
        {
          "output_type": "execute_result",
          "data": {
            "text/plain": [
              "<Axes: >"
            ]
          },
          "metadata": {},
          "execution_count": 160
        },
        {
          "output_type": "display_data",
          "data": {
            "text/plain": [
              "<Figure size 720x360 with 2 Axes>"
            ],
            "image/png": "[encoded data removed]"
          },
          "metadata": {
            "needs_background": "light"
          }
        }
      ]
    },
    {
      "cell_type": "code",
      "source": [
        "class LinearRegression():\n",
        "\n",
        "  def fit(self,X,y):\n",
        "    self.W = np.linalg.solve(X.T@X, X.T@y)\n",
        "\n",
        "  def predict(self, X):\n",
        "    return np.matmul(X, self.W)\n"
      ],
      "metadata": {
        "id": "mnWm8_Su8R9R"
      },
      "execution_count": 161,
      "outputs": []
    },
    {
      "cell_type": "code",
      "source": [
        "def OLS(Y,Y_hat,N):\n",
        "    return (1/(2*N)*np.sum((Y-Y_hat)**2))\n",
        "def R2(Y,Y_hat):\n",
        "    return (1-(np.sum((Y-Y_hat)**1)/np.sum((Y-np.mean(Y))**2)))"
      ],
      "metadata": {
        "id": "-FSVNrz_8R67"
      },
      "execution_count": 162,
      "outputs": []
    },
    {
      "cell_type": "code",
      "source": [
        "#def R2(Y,Y_hat):\n",
        " # return (1-(np.sum((Y-Y_hat)**1)/np.sum((Y-np.mean(Y))**2)))"
      ],
      "metadata": {
        "id": "9kyrjd3O8R4a"
      },
      "execution_count": 163,
      "outputs": []
    },
    {
      "cell_type": "code",
      "source": [
        "class MVLinearRegression():\n",
        "    \n",
        "    def fit(self, X,y, eta = 1e-3, epochs =1e3, show_curve = False):\n",
        "        epochs =int(epochs)\n",
        "        N, D = X.shape\n",
        "        Y =y\n",
        "\n",
        "        #Initialize the weights\n",
        "        self.W =np.random.randn(D)\n",
        "    \n",
        "        J = np.zeros(epochs)\n",
        "\n",
        "        for epoch in range(epochs):\n",
        "            Y_hat = self.predict(X)\n",
        "            J[epoch] = OLS(Y, Y_hat, N)\n",
        "            #weight update Rule:\n",
        "            self.W -= eta*(1/N)*(X.T@(Y_hat-Y))\n",
        "\n",
        "        if show_curve:\n",
        "            plt.figure()\n",
        "            plt.plot(J)\n",
        "            plt.xlabel(\"epochs\")\n",
        "            plt.ylabel(\"\")\n",
        "            plt.title(\"Training Curve\")\n",
        "            plt.show()\n",
        "\n",
        "    def predict(self,X):\n",
        "        return X @ self.W"
      ],
      "metadata": {
        "id": "3zbuCVz58R1t"
      },
      "execution_count": 164,
      "outputs": []
    },
    {
      "cell_type": "code",
      "source": [
        "myReg = MVLinearRegression()"
      ],
      "metadata": {
        "id": "kEThZZWA8RzI"
      },
      "execution_count": 165,
      "outputs": []
    },
    {
      "cell_type": "code",
      "source": [
        "#convert to numpy array\n",
        "X_lin = lin_house.to_numpy()\n",
        "#split target feature\n",
        "y_lin = X_lin[:,-1]\n",
        "X_lin = X_lin[:,:-1]"
      ],
      "metadata": {
        "id": "wwbAnuwqyije"
      },
      "execution_count": 166,
      "outputs": []
    },
    {
      "cell_type": "code",
      "source": [
        "np.set_printoptions(suppress=True)\n",
        "X_lin[5]"
      ],
      "metadata": {
        "colab": {
          "base_uri": "https://localhost:8080/"
        },
        "id": "zCJwr1fZ6nvd",
        "outputId": "fb8444ed-a007-4062-9a91-feb57f5cc860"
      },
      "execution_count": 167,
      "outputs": [
        {
          "output_type": "execute_result",
          "data": {
            "text/plain": [
              "array([12025.,    17.,    18.,     3.,    10.])"
            ]
          },
          "metadata": {},
          "execution_count": 167
        }
      ]
    },
    {
      "cell_type": "code",
      "source": [
        "#split in train and test\n",
        "#first shufle the dataset\n",
        "num_test_reg = int(len(X_lin)*0.10)\n",
        "\n",
        "#and the split for training and test, and also the target feature\n",
        "X_test = X_lin[0:num_test_reg,:]\n",
        "y_test = y_lin[0:num_test_reg]\n",
        "X_train = X_lin[num_test_reg:,:]\n",
        "y_train = y_lin[num_test_reg:]\n",
        "\n",
        "y_test.shape"
      ],
      "metadata": {
        "colab": {
          "base_uri": "https://localhost:8080/"
        },
        "id": "ChQmYAaF2iaM",
        "outputId": "4538f3d8-8809-4fa8-ee08-8b48fe0d8def"
      },
      "execution_count": 168,
      "outputs": [
        {
          "output_type": "execute_result",
          "data": {
            "text/plain": [
              "(473,)"
            ]
          },
          "metadata": {},
          "execution_count": 168
        }
      ]
    },
    {
      "cell_type": "code",
      "source": [
        "X_train[1]"
      ],
      "metadata": {
        "colab": {
          "base_uri": "https://localhost:8080/"
        },
        "id": "mufGVGRGw0Ei",
        "outputId": "9504d9c6-870b-4d55-c4dc-3703502c8e0b"
      },
      "execution_count": 169,
      "outputs": [
        {
          "output_type": "execute_result",
          "data": {
            "text/plain": [
              "array([4795.,    9.,   11.,    5.,   10.])"
            ]
          },
          "metadata": {},
          "execution_count": 169
        }
      ]
    },
    {
      "cell_type": "code",
      "source": [
        "myReg = MVLinearRegression()"
      ],
      "metadata": {
        "id": "Lb0Uzoft2Xo1"
      },
      "execution_count": 170,
      "outputs": []
    },
    {
      "cell_type": "code",
      "source": [
        "myReg.fit(X_train, y_train, epochs=1e3, eta=1e-9, show_curve=True)"
      ],
      "metadata": {
        "colab": {
          "base_uri": "https://localhost:8080/",
          "height": 295
        },
        "id": "dYScFpjqF_41",
        "outputId": "1395f002-e8de-483f-a37a-e4a93591848b"
      },
      "execution_count": 171,
      "outputs": [
        {
          "output_type": "display_data",
          "data": {
            "text/plain": [
              "<Figure size 432x288 with 1 Axes>"
            ],
            "image/png": "[encoded data removed]"
          },
          "metadata": {
            "needs_background": "light"
          }
        }
      ]
    },
    {
      "cell_type": "code",
      "source": [
        "XTest = np.array([[2000,5,33,5,4]])"
      ],
      "metadata": {
        "id": "TYC6LfaOF_26"
      },
      "execution_count": 172,
      "outputs": []
    },
    {
      "cell_type": "code",
      "source": [],
      "metadata": {
        "id": "4YKssssys4-H"
      },
      "execution_count": 172,
      "outputs": []
    },
    {
      "cell_type": "code",
      "source": [
        "y_hat = myReg.predict(X_test)"
      ],
      "metadata": {
        "id": "pAmDNfuDeHW8"
      },
      "execution_count": 173,
      "outputs": []
    },
    {
      "cell_type": "code",
      "source": [],
      "metadata": {
        "id": "iJhP46bXM9B-"
      },
      "execution_count": null,
      "outputs": []
    },
    {
      "cell_type": "code",
      "source": [
        "#using OLS and R2\n",
        "N, D = X_test.shape\n",
        "OLS(y_test, y_hat, N)"
      ],
      "metadata": {
        "colab": {
          "base_uri": "https://localhost:8080/"
        },
        "id": "H7iX55BNmc8S",
        "outputId": "cfa89a04-cb6f-496c-cc92-a2a9fdec61ea"
      },
      "execution_count": 185,
      "outputs": [
        {
          "output_type": "execute_result",
          "data": {
            "text/plain": [
              "235526231784.23944"
            ]
          },
          "metadata": {},
          "execution_count": 185
        }
      ]
    },
    {
      "cell_type": "code",
      "source": [
        "R2(y_test, y_hat)"
      ],
      "metadata": {
        "colab": {
          "base_uri": "https://localhost:8080/"
        },
        "id": "LNjqbo1ymc5G",
        "outputId": "42bd5ea7-5606-4c74-cfec-e75d6fb6a454"
      },
      "execution_count": 175,
      "outputs": [
        {
          "output_type": "execute_result",
          "data": {
            "text/plain": [
              "0.9999974555308292"
            ]
          },
          "metadata": {},
          "execution_count": 175
        }
      ]
    },
    {
      "cell_type": "markdown",
      "source": [
        "#Return Price Functions"
      ],
      "metadata": {
        "id": "oGITkPyKzoki"
      }
    },
    {
      "cell_type": "code",
      "source": [
        "from geopy import Nominatim\n",
        "geolocator = Nominatim(user_agent='mAIstros')"
      ],
      "metadata": {
        "id": "MmhpKYk0z2BY"
      },
      "execution_count": 176,
      "outputs": []
    },
    {
      "cell_type": "code",
      "source": [
        "def get_long_lat(xyz):\n",
        "  location = geolocator.geocode(xyz)\n",
        "  a,b,c = location.point\n",
        "  return ('Longitude:',b, 'Latitude',a,)"
      ],
      "metadata": {
        "id": "WoKvRpETmc3K"
      },
      "execution_count": 177,
      "outputs": []
    },
    {
      "cell_type": "code",
      "source": [
        "get_long_lat('big ben')"
      ],
      "metadata": {
        "colab": {
          "base_uri": "https://localhost:8080/"
        },
        "id": "9u2POGBh1bE7",
        "outputId": "34b11505-712e-45fd-ce68-06e634513d57"
      },
      "execution_count": 178,
      "outputs": [
        {
          "output_type": "execute_result",
          "data": {
            "text/plain": [
              "('Longitude:', -0.1245721, 'Latitude', 51.5007042)"
            ]
          },
          "metadata": {},
          "execution_count": 178
        }
      ]
    },
    {
      "cell_type": "code",
      "source": [
        "def get_pp(long,lat):\n",
        "  long = (long - df_ppsqft['longitude'].min()) / (df_ppsqft['longitude'].max() - df_ppsqft['longitude'].min())\n",
        "  lat = (lat - df_ppsqft['latitude'].min()) / (df_ppsqft['latitude'].max() - df_ppsqft['latitude'].min())\n",
        "  y_pred = knn_model.predict([long,lat], 10)+1\n",
        "  return y_pred[1]"
      ],
      "metadata": {
        "id": "X5rVsC9g1IEU"
      },
      "execution_count": 179,
      "outputs": []
    },
    {
      "cell_type": "code",
      "source": [
        "def get_price(st, r, a, k, pp):\n",
        "  XTest = np.array([[st,r,a,k,pp]])\n",
        "  y_pred = myReg.predict(XTest)\n",
        "  return y_pred"
      ],
      "metadata": {
        "id": "t4JNRwlImc02"
      },
      "execution_count": 180,
      "outputs": []
    },
    {
      "cell_type": "code",
      "source": [],
      "metadata": {
        "id": "6RHYkc6Ymcwj"
      },
      "execution_count": 180,
      "outputs": []
    },
    {
      "cell_type": "markdown",
      "source": [
        "#Live Demo"
      ],
      "metadata": {
        "id": "buh_6Dkk4eja"
      }
    },
    {
      "cell_type": "code",
      "source": [
        "get_long_lat(address_here)"
      ],
      "metadata": {
        "id": "UCr81j5JmcuO"
      },
      "execution_count": null,
      "outputs": []
    },
    {
      "cell_type": "code",
      "source": [
        "get_pp(long, lat)"
      ],
      "metadata": {
        "id": "0dNOlvS0mcr-"
      },
      "execution_count": null,
      "outputs": []
    },
    {
      "cell_type": "code",
      "source": [
        "get_price(sqft, rooms, age, kitchenF, pp_bin)"
      ],
      "metadata": {
        "id": "3DOY3Sj8mcpu"
      },
      "execution_count": null,
      "outputs": []
    }
  ]
}